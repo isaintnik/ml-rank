{
 "cells": [
  {
   "cell_type": "code",
   "execution_count": 24,
   "metadata": {},
   "outputs": [],
   "source": [
    "import numpy as np\n",
    "import pandas as pd\n",
    "from importlib import reload\n",
    "from copy import deepcopy as copy\n",
    "\n",
    "from sklearn.preprocessing import OneHotEncoder\n",
    "from sklearn.base import BaseEstimator, TransformerMixin\n",
    "from sklearn.utils import check_array, as_float_array\n",
    "from sklearn.datasets import make_regression\n",
    "\n",
    "from sklearn.model_selection import KFold, cross_val_score\n",
    "from sklearn.metrics import accuracy_score\n",
    "\n",
    "from sklearn.linear_model import LogisticRegression\n",
    "from sklearn.svm import LinearSVC\n",
    "from lightgbm import LGBMClassifier\n",
    "\n",
    "from bayes_opt import BayesianOptimization\n",
    "\n",
    "from sklearn.feature_selection import RFE\n",
    "from mlxtend.feature_selection import SequentialFeatureSelector, ExhaustiveFeatureSelector"
   ]
  },
  {
   "cell_type": "code",
   "execution_count": 12,
   "metadata": {},
   "outputs": [],
   "source": [
    "import warnings\n",
    "warnings.filterwarnings('ignore')"
   ]
  },
  {
   "cell_type": "code",
   "execution_count": 13,
   "metadata": {},
   "outputs": [],
   "source": [
    "import sys\n",
    "sys.path.append('../')"
   ]
  },
  {
   "cell_type": "code",
   "execution_count": 19,
   "metadata": {},
   "outputs": [],
   "source": [
    "import mlrank.hyperparams_opt as hyperparams_opt\n",
    "\n",
    "reload(hyperparams_opt)\n",
    "\n",
    "bayesian_optimization_lightgbm = hyperparams_opt.bayesian_optimization_lightgbm"
   ]
  },
  {
   "cell_type": "code",
   "execution_count": 15,
   "metadata": {},
   "outputs": [],
   "source": [
    "df = pd.read_csv('./classification/datasets/cancer/breast_cancer.csv')\n",
    "y = df.diagnosis.replace('M', 0).replace('B', 1).values\n",
    "X = np.asarray(df.drop(['diagnosis', 'id', 'Unnamed: 32'], axis=1).as_matrix())"
   ]
  },
  {
   "cell_type": "code",
   "execution_count": 20,
   "metadata": {},
   "outputs": [],
   "source": [
    "params_opt = bayesian_optimization_lightgbm(X, y, cv=4, max_iter_opt=10)"
   ]
  },
  {
   "cell_type": "code",
   "execution_count": 21,
   "metadata": {},
   "outputs": [],
   "source": [
    "params_opt['bagging_freq'] = int(params_opt['bagging_freq'])\n",
    "params_opt['n_estimators'] = int(params_opt['n_estimators'])"
   ]
  },
  {
   "cell_type": "code",
   "execution_count": 22,
   "metadata": {},
   "outputs": [],
   "source": [
    "models = {\n",
    "    'rf': LGBMClassifier(boosting_type='rf', **params_opt),\n",
    "    'lr': LogisticRegression(random_state=42, multi_class='ovr', solver='liblinear', C=10000, tol=1e-2),\n",
    "    'svc': LinearSVC(multi_class='ovr', C=10000, tol=1e-2, max_iter=250),\n",
    "}"
   ]
  },
  {
   "cell_type": "markdown",
   "metadata": {},
   "source": [
    "# SequentialFeatureSelection"
   ]
  },
  {
   "cell_type": "code",
   "execution_count": 69,
   "metadata": {},
   "outputs": [
    {
     "name": "stdout",
     "output_type": "stream",
     "text": [
      "model type: rf\n",
      "('1', '2', '6', '14', '15', '20', '21', '24', '27', '28')\n",
      "0.943886110042324\n",
      "model type: lr\n",
      "('0', '6', '9', '14', '15', '17', '19', '21', '22', '25')\n",
      "0.9631704501731434\n",
      "model type: svc\n",
      "('5', '6', '7', '9', '10', '11', '14', '16', '18', '26')\n",
      "0.945686802616391\n"
     ]
    }
   ],
   "source": [
    "for k, v in models.items():\n",
    "    print('model type: {}'.format(k))\n",
    "    sfs = SequentialFeatureSelector(v, k_features=10, scoring='accuracy')\n",
    "    sfs.fit(X, y)\n",
    "    print(sfs.subsets_[10]['feature_names'])\n",
    "    print(sfs.subsets_[10]['avg_score'])"
   ]
  },
  {
   "cell_type": "markdown",
   "metadata": {},
   "source": [
    "# ExhaustiveFeatureSelection"
   ]
  },
  {
   "cell_type": "code",
   "execution_count": 60,
   "metadata": {},
   "outputs": [],
   "source": [
    "efs = ExhaustiveFeatureSelector(estimator=models['lr'], max_features=5, scoring='accuracy', n_jobs=-1, print_progress=False)"
   ]
  },
  {
   "cell_type": "code",
   "execution_count": 61,
   "metadata": {},
   "outputs": [
    {
     "data": {
      "text/plain": [
       "ExhaustiveFeatureSelector(clone_estimator=True, cv=5,\n",
       "             estimator=LogisticRegression(C=10000, class_weight=None, dual=False, fit_intercept=True,\n",
       "          intercept_scaling=1, max_iter=100, multi_class='ovr',\n",
       "          n_jobs=None, penalty='l2', random_state=42, solver='liblinear',\n",
       "          tol=0.01, verbose=0, warm_start=False),\n",
       "             max_features=5, min_features=1, n_jobs=-1,\n",
       "             pre_dispatch='2*n_jobs', print_progress=False,\n",
       "             scoring='accuracy')"
      ]
     },
     "execution_count": 61,
     "metadata": {},
     "output_type": "execute_result"
    }
   ],
   "source": [
    "efs.fit(X, y)"
   ]
  },
  {
   "cell_type": "code",
   "execution_count": 62,
   "metadata": {},
   "outputs": [
    {
     "name": "stdout",
     "output_type": "stream",
     "text": [
      "('6', '20', '21', '27', '28')\n",
      "0.9737283570604077\n"
     ]
    }
   ],
   "source": [
    "print(efs.best_feature_names_)\n",
    "print(efs.best_score_)"
   ]
  },
  {
   "cell_type": "markdown",
   "metadata": {},
   "source": [
    "# RecursiveFeatureElimination"
   ]
  },
  {
   "cell_type": "code",
   "execution_count": 67,
   "metadata": {},
   "outputs": [
    {
     "name": "stdout",
     "output_type": "stream",
     "text": [
      "model type: rf\n",
      "[ 0  1  6  7 10 13 21 22 23 27]\n",
      "0.9718804920913884\n",
      "model type: lr\n",
      "[ 0  1  2  3 13 20 21 22 23 26]\n",
      "0.9244288224956063\n",
      "model type: svc\n",
      "[ 0  2  3 13 20 21 22 23 25 26]\n",
      "0.9261862917398945\n"
     ]
    }
   ],
   "source": [
    "for k, v in models.items():\n",
    "    print('model type: {}'.format(k))\n",
    "    rfe = RFE(estimator=v, n_features_to_select=10)\n",
    "    rfe.fit(X, y)\n",
    "    print(np.array(list(range(X.shape[1])))[rfe.support_])\n",
    "    print(rfe.score(X, y))"
   ]
  },
  {
   "cell_type": "markdown",
   "metadata": {},
   "source": [
    "# Logistic Regression coefficents"
   ]
  },
  {
   "cell_type": "code",
   "execution_count": 36,
   "metadata": {},
   "outputs": [],
   "source": [
    "model_coefs = []\n",
    "\n",
    "c = copy(models['lr'])\n",
    "c.fit(X, y)\n",
    "    \n",
    "model_coefs = np.abs(c.coef_).sum(0)"
   ]
  },
  {
   "cell_type": "code",
   "execution_count": 43,
   "metadata": {},
   "outputs": [
    {
     "data": {
      "text/plain": [
       "[(0.12941427519545518, 2),\n",
       " (0.07119361736812418, 22),\n",
       " (0.06080937819631187, 21),\n",
       " (0.03744949299196023, 13),\n",
       " (0.03315573040365625, 20),\n",
       " (0.03177794924708716, 0),\n",
       " (0.02979118764768479, 23),\n",
       " (0.024930010785713594, 1),\n",
       " (0.011327217384643661, 3),\n",
       " (0.008216080697687216, 26),\n",
       " (0.006367041609851984, 25),\n",
       " (0.005346895828013415, 12),\n",
       " (0.002776771506181147, 6),\n",
       " (0.0021540964297854896, 27),\n",
       " (0.0017498220089531818, 5),\n",
       " (0.0010915943591670958, 7),\n",
       " (0.0009399048060519815, 28),\n",
       " (0.000629659446417253, 16),\n",
       " (0.0005007572838046502, 10),\n",
       " (0.00047737120665777713, 15),\n",
       " (0.00038205966600363334, 29),\n",
       " (0.0002827708890818849, 24),\n",
       " (0.00023122859256097418, 11),\n",
       " (0.00014470228130750016, 17),\n",
       " (8.64503355601112e-05, 9),\n",
       " (6.216562923148185e-05, 18),\n",
       " (3.833914090999487e-05, 4),\n",
       " (3.512145239055656e-05, 19),\n",
       " (2.3220175208675074e-05, 14),\n",
       " (1.1279364862935998e-05, 8)]"
      ]
     },
     "execution_count": 43,
     "metadata": {},
     "output_type": "execute_result"
    }
   ],
   "source": [
    "sorted(zip(model_coefs.tolist(), range(model_coefs.shape[0])), key = lambda x: -x[0])"
   ]
  },
  {
   "cell_type": "code",
   "execution_count": null,
   "metadata": {},
   "outputs": [],
   "source": []
  }
 ],
 "metadata": {
  "kernelspec": {
   "display_name": "Python 3",
   "language": "python",
   "name": "python3"
  },
  "language_info": {
   "codemirror_mode": {
    "name": "ipython",
    "version": 3
   },
   "file_extension": ".py",
   "mimetype": "text/x-python",
   "name": "python",
   "nbconvert_exporter": "python",
   "pygments_lexer": "ipython3",
   "version": "3.6.6"
  }
 },
 "nbformat": 4,
 "nbformat_minor": 2
}
