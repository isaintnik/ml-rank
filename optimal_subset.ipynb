{
 "cells": [
  {
   "cell_type": "code",
   "execution_count": 101,
   "metadata": {},
   "outputs": [],
   "source": [
    "import numpy as np\n",
    "import pandas as pd\n",
    "\n",
    "from sklearn.preprocessing import OneHotEncoder\n",
    "from sklearn.base import BaseEstimator, TransformerMixin\n",
    "from sklearn.utils import check_array, as_float_array\n",
    "from sklearn.datasets import make_regression\n",
    "\n",
    "from sklearn.model_selection import KFold\n",
    "from sklearn.metrics import accuracy_score\n",
    "\n",
    "from sklearn.linear_model import LogisticRegression\n",
    "from sklearn.svm import LinearSVC\n",
    "from lightgbm import LGBMClassifier\n",
    "\n",
    "from scipy.stats import entropy\n",
    "from copy import deepcopy as copy\n",
    "\n",
    "import matplotlib.pyplot as plt\n",
    "\n",
    "%matplotlib inline"
   ]
  },
  {
   "cell_type": "code",
   "execution_count": 6,
   "metadata": {},
   "outputs": [],
   "source": [
    "import warnings\n",
    "warnings.filterwarnings('ignore')"
   ]
  },
  {
   "cell_type": "code",
   "execution_count": 7,
   "metadata": {},
   "outputs": [],
   "source": [
    "# https://www.theanalysisfactor.com/continuous-and-categorical-variables-the-trouble-with-median-splits/"
   ]
  },
  {
   "cell_type": "code",
   "execution_count": 200,
   "metadata": {},
   "outputs": [],
   "source": [
    "class MaxentropyDichtomizationTransformer(BaseEstimator, TransformerMixin):\n",
    "    def __init__(self, n_splits, verbose=False):\n",
    "        self.n_splits = n_splits\n",
    "        \n",
    "        self.n_samples = None\n",
    "        self.n_features = None\n",
    "        self._splits = None\n",
    "        self._splits_indices = None\n",
    "    \n",
    "    def _check_X(self, X, n_features=None):\n",
    "        _X = None\n",
    "        if not hasattr(X, 'dtype'):\n",
    "            _X = check_array(as_float_array(X))\n",
    "        _X = check_array(X)\n",
    "        \n",
    "        if self.n_features:\n",
    "            if _X.shape[1] != self.n_features:\n",
    "                raise Exception('X has {} columns while {} are expected'.format(_X.shape[1], self.n_features))\n",
    "        return _X\n",
    "    \n",
    "    def _get_maxentropy_split(self, X):\n",
    "        block_size = X.shape[0]\n",
    "        ix_max_entropy = -1\n",
    "        max_entropy = -1\n",
    "        max_probas = None\n",
    "        for i in range(1, block_size - 1):\n",
    "            a = np.sum(X < X[i])\n",
    "            b = np.sum(X >= X[i])\n",
    "\n",
    "            p = np.array([a / block_size, b / block_size])\n",
    "            e = -np.sum(np.log(p + 1) * p)\n",
    "\n",
    "            if max_entropy < e:\n",
    "                max_probas = p\n",
    "                max_entropy = e\n",
    "                ix_max_entropy = i\n",
    "        \n",
    "        if max_probas is None or 0 in max_probas:\n",
    "            return 0, -1\n",
    "\n",
    "        return max_entropy, ix_max_entropy\n",
    "\n",
    "    def _dichtomize(self, X):\n",
    "        _iters = np.log2(self.n_splits)\n",
    "        if _iters - int(_iters) != 0:\n",
    "            raise Exception('number of bins should be of a power of 2')\n",
    "        \n",
    "        # make first maxentropy split\n",
    "        _, initial_bin = self._get_maxentropy_split(X)\n",
    "        splits_current_feature = [(0, initial_bin), (initial_bin, self.n_samples - 1)]\n",
    "        for i in range(int(_iters) - 1):\n",
    "            # an empty list for splits in current iteration\n",
    "            _splits = list()\n",
    "            for j in splits_current_feature:\n",
    "                entropy, index = self._get_maxentropy_split(X[j[0]: j[1]])\n",
    "                if entropy == 0:\n",
    "                    _splits += [(j[0], j[1])]\n",
    "                else:\n",
    "                    _splits += [(j[0], j[0] + index), (j[0] + index, j[1])]\n",
    "\n",
    "            splits_current_feature = _splits\n",
    "            \n",
    "        return splits_current_feature\n",
    "    \n",
    "    def _convert(self, X, ix):\n",
    "        result = list()\n",
    "        for x in X.flatten():\n",
    "            result.append(np.argwhere([k[0] <= x and x < k[1] for k in self._splits[ix]]))\n",
    "        return np.array(result).reshape(-1, 1) \n",
    "    \n",
    "    def fit(self, X):\n",
    "        X = self._check_X(X)\n",
    "        self.n_samples, self.n_features = X.shape\n",
    "        \n",
    "        self._splits = list()\n",
    "        self._splits_indices = list()\n",
    "        \n",
    "        for ix in range(self.n_features):\n",
    "            x = np.sort(X[:, ix].flatten())\n",
    "            _indices = self._dichtomize(x.flatten())\n",
    "            \n",
    "            self._splits_indices.append(_indices)\n",
    "            self._splits.append([[x[i[0]], x[i[1]]] for i in _indices])\n",
    "            \n",
    "            self._splits[-1][0][0] = -np.inf\n",
    "            self._splits[-1][-1][1] = np.inf\n",
    "            \n",
    "            self._splits = np.array(self._splits)\n",
    "            \n",
    "        return self\n",
    "    \n",
    "    def transform(self, X):\n",
    "        _, n_features = X.shape\n",
    "        X = self._check_X(X, n_features)\n",
    "        \n",
    "        X_categorical = list()\n",
    "        for ix in range(n_features):\n",
    "            X_categorical.append(self._convert(X, ix))\n",
    "            \n",
    "        return np.hstack(X_categorical)"
   ]
  },
  {
   "cell_type": "code",
   "execution_count": 218,
   "metadata": {},
   "outputs": [],
   "source": [
    "def synchronize_counts(_from: dict, _to: dict):\n",
    "    subset = np.setdiff1d(list(_from.keys()), list(_to.keys()))\n",
    "    for i in subset:\n",
    "        _to[i] = 0"
   ]
  },
  {
   "cell_type": "code",
   "execution_count": 217,
   "metadata": {},
   "outputs": [],
   "source": [
    "def cross_entropy(p, q):\n",
    "    p = np.array(p)\n",
    "    q = np.array(q)\n",
    "    q[q == 0] = 1e-8\n",
    "    return -np.sum(p * np.log(q))"
   ]
  },
  {
   "cell_type": "markdown",
   "metadata": {},
   "source": [
    "# Эксперимент по бинаризации данных из разных распределений"
   ]
  },
  {
   "cell_type": "code",
   "execution_count": 203,
   "metadata": {},
   "outputs": [
    {
     "data": {
      "image/png": "[encoded data removed]",
      "text/plain": [
       "<Figure size 720x216 with 1 Axes>"
      ]
     },
     "metadata": {},
     "output_type": "display_data"
    },
    {
     "data": {
      "image/png": "[encoded data removed]",
      "text/plain": [
       "<Figure size 720x216 with 1 Axes>"
      ]
     },
     "metadata": {},
     "output_type": "display_data"
    },
    {
     "data": {
      "image/png": "[encoded data removed]",
      "text/plain": [
       "<Figure size 720x216 with 1 Axes>"
      ]
     },
     "metadata": {},
     "output_type": "display_data"
    },
    {
     "data": {
      "image/png": "[encoded data removed]",
      "text/plain": [
       "<Figure size 720x216 with 1 Axes>"
      ]
     },
     "metadata": {},
     "output_type": "display_data"
    },
    {
     "data": {
      "image/png": "[encoded data removed]",
      "text/plain": [
       "<Figure size 720x216 with 1 Axes>"
      ]
     },
     "metadata": {},
     "output_type": "display_data"
    }
   ],
   "source": [
    "dichtomizer = MaxentropyDichtomizationTransformer(8)\n",
    "\n",
    "distributions = {\n",
    "    \"normal\": np.random.normal(size=1000),\n",
    "    \"poisson\": np.random.poisson(size=1000),\n",
    "    \"uniform\": np.random.uniform(size=1000),\n",
    "    \"lognormal\": np.random.lognormal(size=1000),\n",
    "    \"laplace\": np.random.laplace(size=1000)\n",
    "}\n",
    "\n",
    "dichtomizer.fit(distributions['normal'].reshape(-1, 1))\n",
    "#dichtomizer.transform(distributions['normal'].reshape(-1, 1))\n",
    "for _name, _samples in distributions.items():\n",
    "    dichtomizer.fit(_samples.reshape(-1, 1))\n",
    "    \n",
    "    plt.figure(figsize=(10, 3))\n",
    "    plt.plot(np.sort(_samples))\n",
    "    plt.title(_name)\n",
    "    for i in dichtomizer._splits_indices[0][:-1]:\n",
    "        plt.axvline(x=i[1], color='r')"
   ]
  },
  {
   "cell_type": "markdown",
   "metadata": {},
   "source": [
    "# Эксперимент на синтетике"
   ]
  },
  {
   "cell_type": "code",
   "execution_count": 226,
   "metadata": {},
   "outputs": [],
   "source": [
    "X, y, coefs = make_regression(n_samples=2000, n_features=15, n_informative=4, n_targets=4, coef=True, random_state=42)\n",
    "X = np.concatenate([X, y[:, :-1]], axis=1)\n",
    "y = y[:, -1]#.reshape(-1, 1)"
   ]
  },
  {
   "cell_type": "code",
   "execution_count": 228,
   "metadata": {},
   "outputs": [],
   "source": [
    "feature_space = []\n",
    "binarizers = []\n",
    "for i in range(X.shape[1]):\n",
    "    feature = X[:, i].reshape(-1, 1)\n",
    "    binarizer = MaxentropyDichtomizationTransformer(32).fit(feature)\n",
    "    dichtomized_feature = binarizer.transform(feature)\n",
    "    encoder = OneHotEncoder(sparse=False).fit(dichtomized_feature)\n",
    "    \n",
    "    binarizers.append({\n",
    "        'binarizer': binarizer, \n",
    "        'encoder': encoder\n",
    "    })\n",
    "    \n",
    "    feature_space.append(\n",
    "        {'category': dichtomized_feature,\n",
    "        'onehot': encoder.transform(dichtomized_feature)}\n",
    "    )\n",
    "    \n",
    "y = MaxentropyDichtomizationTransformer(32).fit(y.reshape(-1, 1)).transform(y.reshape(-1, 1))"
   ]
  },
  {
   "cell_type": "code",
   "execution_count": 229,
   "metadata": {},
   "outputs": [],
   "source": [
    "models = {\n",
    "    'rf': LGBMClassifier(boosting_type='rf', bagging_freq=5, bagging_fraction=.05, feature_fraction=.1),\n",
    "    'lr': LogisticRegression(random_state=42, multi_class='ovr'),\n",
    "    'svc': LinearSVC(multi_class='ovr'),\n",
    "}"
   ]
  },
  {
   "cell_type": "code",
   "execution_count": 230,
   "metadata": {},
   "outputs": [],
   "source": [
    "def score_models(models, X, y, folds = 8):\n",
    "    stats = {}\n",
    "\n",
    "    for k, model in models.items():\n",
    "        stats[k] = []\n",
    "        kfold = KFold(n_splits=8, shuffle=True)\n",
    "\n",
    "        for train_ix, test_ix in kfold.split(X, y):\n",
    "            X_crossval_train, X_crossval_test = X[train_ix], X[test_ix]\n",
    "            y_crossval_train, y_crossval_test = y[train_ix], y[test_ix]\n",
    "\n",
    "            model.fit(X_crossval_train, y_crossval_train.ravel())\n",
    "            stats[k].append(accuracy_score(model.predict(X_crossval_test), y_crossval_test, normalize=True))\n",
    "    \n",
    "    for model, model_stats in stats.items():\n",
    "        print('{}, Accuracy: {}'.format(model, np.mean(model_stats)))\n"
   ]
  },
  {
   "cell_type": "code",
   "execution_count": 231,
   "metadata": {},
   "outputs": [
    {
     "name": "stdout",
     "output_type": "stream",
     "text": [
      "rf, Accuracy: 0.08349999999999999\n",
      "lr, Accuracy: 0.157\n",
      "svc, Accuracy: 0.049\n"
     ]
    }
   ],
   "source": [
    "score_models(models, X, y, 8)"
   ]
  },
  {
   "cell_type": "code",
   "execution_count": 232,
   "metadata": {},
   "outputs": [
    {
     "name": "stdout",
     "output_type": "stream",
     "text": [
      "[0, 17, 16, 1, 14, 15, 4, 11, 2, 13, 5, 3, 12, 8, 9, 10, 7, 6]\n",
      "score on new features:\n",
      "rf, Accuracy: 0.0325\n",
      "lr, Accuracy: 0.07\n",
      "svc, Accuracy: 0.055999999999999994\n",
      "[1, 17, 8, 12, 2, 16, 9, 10, 3, 13, 7, 6, 4, 0, 14, 5, 11, 15]\n",
      "score on new features:\n",
      "rf, Accuracy: 0.029500000000000002\n",
      "lr, Accuracy: 0.060000000000000005\n",
      "svc, Accuracy: 0.062\n",
      "[2, 4, 3, 6, 16, 10, 12, 11, 8, 9, 15, 14, 1, 5, 7, 13, 0, 17]\n",
      "score on new features:\n",
      "rf, Accuracy: 0.0335\n",
      "lr, Accuracy: 0.034\n",
      "svc, Accuracy: 0.0295\n",
      "[3, 15, 14, 17, 0, 7, 5, 13, 11, 9, 8, 6, 1, 4, 12, 2, 16, 10]\n",
      "score on new features:\n",
      "rf, Accuracy: 0.031\n",
      "lr, Accuracy: 0.07700000000000001\n",
      "svc, Accuracy: 0.07050000000000001\n",
      "[4, 10, 1, 15, 16, 9, 14, 11, 7, 8, 6, 12, 3, 5, 17, 0, 2, 13]\n",
      "score on new features:\n",
      "rf, Accuracy: 0.026500000000000003\n",
      "lr, Accuracy: 0.0575\n",
      "svc, Accuracy: 0.056499999999999995\n",
      "[5, 1, 16, 12, 8, 11, 3, 17, 6, 13, 14, 7, 9, 10, 0, 2, 4, 15]\n",
      "score on new features:\n",
      "rf, Accuracy: 0.031\n",
      "lr, Accuracy: 0.044\n",
      "svc, Accuracy: 0.039\n",
      "[6, 0, 3, 17, 1, 2, 8, 15, 10, 16, 14, 12, 11, 9, 13, 7, 4, 5]\n",
      "score on new features:\n",
      "rf, Accuracy: 0.031\n",
      "lr, Accuracy: 0.0645\n",
      "svc, Accuracy: 0.053000000000000005\n",
      "[7, 12, 4, 13, 0, 3, 11, 15, 17, 9, 16, 8, 2, 14, 5, 6, 1, 10]\n",
      "score on new features:\n",
      "rf, Accuracy: 0.0315\n",
      "lr, Accuracy: 0.0425\n",
      "svc, Accuracy: 0.045\n",
      "[8, 5, 6, 9, 11, 2, 1, 17, 14, 16, 3, 0, 13, 4, 12, 10, 7, 15]\n",
      "score on new features:\n",
      "rf, Accuracy: 0.031\n",
      "lr, Accuracy: 0.0295\n",
      "svc, Accuracy: 0.0305\n",
      "[9, 8, 16, 17, 3, 12, 2, 14, 7, 15, 5, 6, 4, 10, 13, 1, 0, 11]\n",
      "score on new features:\n",
      "rf, Accuracy: 0.0265\n",
      "lr, Accuracy: 0.0445\n",
      "svc, Accuracy: 0.042499999999999996\n",
      "[10, 6, 12, 0, 8, 14, 4, 16, 13, 5, 11, 3, 2, 15, 9, 7, 1, 17]\n",
      "score on new features:\n",
      "rf, Accuracy: 0.031\n",
      "lr, Accuracy: 0.053000000000000005\n",
      "svc, Accuracy: 0.0455\n",
      "[11, 0, 12, 17, 5, 3, 2, 13, 6, 7, 8, 10, 1, 14, 4, 9, 16, 15]\n",
      "score on new features:\n",
      "rf, Accuracy: 0.0315\n",
      "lr, Accuracy: 0.07250000000000001\n",
      "svc, Accuracy: 0.053500000000000006\n",
      "[12, 5, 14, 13, 2, 7, 9, 0, 1, 10, 3, 11, 6, 4, 15, 8, 17, 16]\n",
      "score on new features:\n",
      "rf, Accuracy: 0.0325\n",
      "lr, Accuracy: 0.042499999999999996\n",
      "svc, Accuracy: 0.04\n",
      "[13, 6, 0, 10, 12, 4, 17, 7, 1, 15, 5, 16, 8, 14, 11, 2, 9, 3]\n",
      "score on new features:\n",
      "rf, Accuracy: 0.028999999999999998\n",
      "lr, Accuracy: 0.0615\n",
      "svc, Accuracy: 0.055999999999999994\n",
      "[14, 12, 7, 9, 13, 3, 2, 5, 0, 4, 10, 11, 15, 8, 16, 17, 6, 1]\n",
      "score on new features:\n",
      "rf, Accuracy: 0.031000000000000003\n",
      "lr, Accuracy: 0.037000000000000005\n",
      "svc, Accuracy: 0.0345\n",
      "[15, 6, 11, 7, 16, 17, 13, 2, 0, 10, 5, 1, 3, 4, 9, 12, 8, 14]\n",
      "score on new features:\n",
      "rf, Accuracy: 0.031\n",
      "lr, Accuracy: 0.091\n",
      "svc, Accuracy: 0.07050000000000001\n",
      "[16, 4, 3, 17, 0, 1, 12, 13, 8, 7, 14, 6, 5, 10, 9, 2, 15, 11]\n",
      "score on new features:\n",
      "rf, Accuracy: 0.033\n",
      "lr, Accuracy: 0.051\n",
      "svc, Accuracy: 0.03949999999999999\n",
      "[17, 11, 3, 16, 7, 0, 1, 12, 14, 10, 6, 8, 9, 13, 2, 4, 5, 15]\n",
      "score on new features:\n",
      "rf, Accuracy: 0.031\n",
      "lr, Accuracy: 0.0755\n",
      "svc, Accuracy: 0.071\n",
      "real informative variables\n",
      "[0, 1, 2, 3, 10, 11, 15, 16, 17]\n"
     ]
    }
   ],
   "source": [
    "np.random.seed(42)\n",
    "\n",
    "global_stats = []\n",
    "ix_subsets = []\n",
    "for initial_feature in range(len(feature_space)):\n",
    "    #initial_feature = 0# np.random.randint(0, len(feature_space))\n",
    "\n",
    "    dataset_size = X.shape[0]\n",
    "    # free_features is a list of observation indices\n",
    "    free_features = [i for i in range(len(feature_space)) if i != initial_feature]\n",
    "    # subset is a list of observations\n",
    "    subset = [feature_space[initial_feature]['onehot']]\n",
    "    # indices of the features in the subset\n",
    "    subset_indices = [initial_feature]\n",
    "\n",
    "    while len(subset) != len(feature_space):\n",
    "        max_entropy = -1\n",
    "        feature_index = -1\n",
    "        new_feature = None\n",
    "\n",
    "        local_stats = []\n",
    "\n",
    "        for ix_feature, feature in enumerate(free_features):\n",
    "            if len(subset) > 1:\n",
    "                input_features = np.concatenate(subset, axis=1)\n",
    "            else:\n",
    "                input_features = subset[0]\n",
    "\n",
    "            clr = copy(models['lr'])\n",
    "            #train model on the given subset and new feature\n",
    "            clr.fit(input_features, feature_space[feature]['category'].squeeze())\n",
    "            #predict that feature with the given subset\n",
    "            predicted = clr.predict(input_features)\n",
    "\n",
    "            predicted_onehot = binarizers[feature]['encoder'].transform(predicted.reshape(-1, 1))\n",
    "            pred_difference = (predicted_onehot != feature_space[feature]['onehot']).astype(np.int32) # 0110\n",
    "\n",
    "            pred_category, pred_counts = np.unique(predicted, return_counts=True)\n",
    "            real_category, real_counts = np.unique(feature_space[feature]['category'], return_counts=True)\n",
    "\n",
    "            pred_proba = pred_counts / dataset_size\n",
    "            real_proba = real_counts / dataset_size\n",
    "\n",
    "            real_stats = dict(zip(real_category, real_proba))\n",
    "            pred_stats =  dict(zip(pred_category, pred_proba))\n",
    "\n",
    "            synchronize_counts(real_stats, pred_stats)\n",
    "\n",
    "            ce_r_r = cross_entropy(list(real_stats.values()), list(real_stats.values()))\n",
    "            ce_p_p = cross_entropy(list(pred_stats.values()), list(pred_stats.values()))\n",
    "            ce_r_p = cross_entropy(list(real_stats.values()), list(pred_stats.values()))\n",
    "\n",
    "            if max_entropy < ce_r_p:\n",
    "                max_entropy = ce_r_p\n",
    "                feature_index = ix_feature\n",
    "                new_feature = pred_difference\n",
    "\n",
    "            local_stats.append({'rr': ce_r_r, 'pp': ce_p_p, 'rp': ce_r_p})\n",
    "        \n",
    "        subset.append(new_feature)\n",
    "        subset_indices.append(free_features[feature_index])\n",
    "        del free_features[feature_index]\n",
    "\n",
    "    #print('generated ordered list of variables')\n",
    "    global_stats.append(local_stats)\n",
    "    ix_subsets.append(subset_indices)\n",
    "    print(subset_indices)\n",
    "    print('score on new features:')\n",
    "    score_models(models, np.hstack(subset), y, 8)\n",
    "    \n",
    "print('real informative variables')\n",
    "print(np.unique(np.argwhere(coefs > 0)).tolist() + [15, 16, 17])"
   ]
  },
  {
   "cell_type": "markdown",
   "metadata": {},
   "source": [
    "# Попытка отранжировать переменные по значимости"
   ]
  },
  {
   "cell_type": "markdown",
   "metadata": {},
   "source": [
    "## (как часто кросс-энтропия была максимальной)"
   ]
  },
  {
   "cell_type": "code",
   "execution_count": 233,
   "metadata": {},
   "outputs": [],
   "source": [
    "indices_scores = {k: 0 for k in range(0, 18)}\n",
    "\n",
    "for i in ix_subsets:\n",
    "    for s, j in enumerate(i[::-1][:-1]):\n",
    "        indices_scores[j] += (s + 1)"
   ]
  },
  {
   "cell_type": "code",
   "execution_count": 234,
   "metadata": {},
   "outputs": [
    {
     "data": {
      "text/plain": [
       "<matplotlib.axes._subplots.AxesSubplot at 0x20a82809400>"
      ]
     },
     "execution_count": 234,
     "metadata": {},
     "output_type": "execute_result"
    },
    {
     "data": {
      "image/png": "[encoded data removed]",
      "text/plain": [
       "<Figure size 432x288 with 1 Axes>"
      ]
     },
     "metadata": {},
     "output_type": "display_data"
    }
   ],
   "source": [
    "pd.Series(indices_scores).sort_values(ascending=False).plot(kind='bar')"
   ]
  },
  {
   "cell_type": "code",
   "execution_count": null,
   "metadata": {},
   "outputs": [],
   "source": []
  }
 ],
 "metadata": {
  "kernelspec": {
   "display_name": "Python 3",
   "language": "python",
   "name": "python3"
  },
  "language_info": {
   "codemirror_mode": {
    "name": "ipython",
    "version": 3
   },
   "file_extension": ".py",
   "mimetype": "text/x-python",
   "name": "python",
   "nbconvert_exporter": "python",
   "pygments_lexer": "ipython3",
   "version": "3.6.6"
  }
 },
 "nbformat": 4,
 "nbformat_minor": 2
}
