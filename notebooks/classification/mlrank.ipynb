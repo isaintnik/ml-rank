{
 "cells": [
  {
   "cell_type": "code",
   "execution_count": 1,
   "metadata": {},
   "outputs": [],
   "source": [
    "import warnings\n",
    "warnings.filterwarnings('ignore')"
   ]
  },
  {
   "cell_type": "code",
   "execution_count": 2,
   "metadata": {},
   "outputs": [],
   "source": [
    "import pandas as pd\n",
    "import numpy as np\n",
    "import struct\n",
    "from importlib import reload\n",
    "\n",
    "from sklearn.preprocessing import StandardScaler\n",
    "\n",
    "from sklearn.linear_model import LogisticRegression\n",
    "from sklearn.svm import LinearSVC\n",
    "from lightgbm import LGBMClassifier\n",
    "from sklearn.calibration import CalibratedClassifierCV\n",
    "\n",
    "from sklearn.metrics import accuracy_score\n",
    "from sklearn.utils import shuffle\n",
    "from sklearn.model_selection import KFold, train_test_split, cross_val_score\n",
    "\n",
    "from hyperopt import fmin, tpe, hp\n",
    "from bayes_opt import BayesianOptimization\n",
    "\n",
    "from scipy.stats import entropy\n",
    "from scipy import sparse\n",
    "\n",
    "import matplotlib.pyplot as plt\n",
    "\n",
    "from copy import deepcopy as copy\n",
    "\n",
    "%matplotlib inline"
   ]
  },
  {
   "cell_type": "code",
   "execution_count": 3,
   "metadata": {},
   "outputs": [],
   "source": [
    "import sys\n",
    "sys.path.append('../../')"
   ]
  },
  {
   "cell_type": "code",
   "execution_count": 4,
   "metadata": {},
   "outputs": [],
   "source": [
    "import mlrank.dichtomization as dichtomization\n",
    "import mlrank.orthogonalization as orthogonalization\n",
    "import mlrank.hyperparams_opt as hyperparams_opt\n",
    "\n",
    "reload(dichtomization)\n",
    "reload(orthogonalization)\n",
    "reload(hyperparams_opt)\n",
    "\n",
    "MaxentropyMedianDichtomizationTransformer = dichtomization.MaxentropyMedianDichtomizationTransformer\n",
    "MLRankTransformer = orthogonalization.MLRankTransformer\n",
    "MLRankTargetBasedTransformer = orthogonalization.MLRankTargetBasedTransformer\n",
    "bayesian_optimization_lightgbm = hyperparams_opt.bayesian_optimization_lightgbm"
   ]
  },
  {
   "cell_type": "code",
   "execution_count": 5,
   "metadata": {},
   "outputs": [],
   "source": [
    "n_holdout_interations = 100"
   ]
  },
  {
   "cell_type": "markdown",
   "metadata": {},
   "source": [
    "# Breast Cancer"
   ]
  },
  {
   "cell_type": "code",
   "execution_count": 6,
   "metadata": {},
   "outputs": [],
   "source": [
    "df = pd.read_csv('../../datasets/cancer/breast_cancer.csv')\n",
    "y = df.diagnosis.replace('M', 0).replace('B', 1).values\n",
    "X = np.asarray(df.drop(['diagnosis', 'id', 'Unnamed: 32'], axis=1).as_matrix())"
   ]
  },
  {
   "cell_type": "code",
   "execution_count": 7,
   "metadata": {},
   "outputs": [],
   "source": [
    "X = StandardScaler().fit_transform(X)"
   ]
  },
  {
   "cell_type": "code",
   "execution_count": 8,
   "metadata": {},
   "outputs": [],
   "source": [
    "models = {\n",
    "    'lr': LogisticRegression(random_state=42, multi_class='ovr', solver='liblinear', C=10000, tol=1e-2),\n",
    "    'svc': CalibratedClassifierCV(LinearSVC(multi_class='ovr', C=10000, tol=1e-6, random_state=42)),\n",
    "}"
   ]
  },
  {
   "cell_type": "code",
   "execution_count": 51,
   "metadata": {},
   "outputs": [],
   "source": [
    "transform = MLRankTransformer(models['lr'], exhausitve=True, verbose=1)\n",
    "# используем SVC, так как LR не сходится по энтропии к таргету на данном датасете\n",
    "transform_target_min_xor = MLRankTargetBasedTransformer(models['svc'], transformation=lambda a, b: a != b, verbose=1, use_max_entropy=False)\n",
    "transform_target_max_xor = MLRankTargetBasedTransformer(models['svc'], transformation=lambda a, b: a != b, verbose=1, use_max_entropy=True)"
   ]
  },
  {
   "cell_type": "code",
   "execution_count": 52,
   "metadata": {},
   "outputs": [],
   "source": [
    "features_target_max_xor, indices_target_max_xor = transform_target_max_xor.fit_transform(X, y.reshape(-1, 1))\n",
    "features_target_min_xor, indices_target_min_xor = transform_target_min_xor.fit_transform(X, y.reshape(-1, 1))"
   ]
  },
  {
   "cell_type": "code",
   "execution_count": 54,
   "metadata": {},
   "outputs": [
    {
     "name": "stdout",
     "output_type": "stream",
     "text": [
      "[18, 11, 0]\n",
      "[22, 20, 0, 1, 2, 3, 4, 5]\n"
     ]
    }
   ],
   "source": [
    "print(indices_target_max_xor)\n",
    "print(indices_target_min_xor)"
   ]
  },
  {
   "cell_type": "markdown",
   "metadata": {},
   "source": [
    "## Считаем точность на оптимальном сабсете, полученном из таргета (min, xor)"
   ]
  },
  {
   "cell_type": "code",
   "execution_count": 55,
   "metadata": {},
   "outputs": [
    {
     "name": "stdout",
     "output_type": "stream",
     "text": [
      "0.9412280701754387\n",
      "0.9575438596491227\n"
     ]
    }
   ],
   "source": [
    "accur_score = list()\n",
    "\n",
    "for i in range(n_holdout_interations):\n",
    "    X_train, X_val, y_train, y_val = train_test_split(X[:, indices_target_min_xor], y, test_size=0.5)#, random_state=1)\n",
    "    \n",
    "    record = dict()\n",
    "    for name, model in models.items():\n",
    "        model.fit(X_train, y_train.squeeze())\n",
    "        record[name] = accuracy_score(model.predict(X_val), y_val.squeeze())\n",
    "    accur_score.append(record)\n",
    "\n",
    "print(np.mean([i['svc'] for i in accur_score]))\n",
    "print(np.mean([i['lr'] for i in accur_score]))"
   ]
  },
  {
   "cell_type": "markdown",
   "metadata": {},
   "source": [
    "### Ортогонализуем специально под SVC"
   ]
  },
  {
   "cell_type": "code",
   "execution_count": 56,
   "metadata": {},
   "outputs": [],
   "source": [
    "optimal_transform = MLRankTransformer(models['svc'], exhausitve=False, verbose=1)"
   ]
  },
  {
   "cell_type": "code",
   "execution_count": 57,
   "metadata": {},
   "outputs": [],
   "source": [
    "features_min_xor, _  = optimal_transform.fit_transform(\n",
    "    np.hstack([X[:, i].reshape(-1, 1) for i in indices_target_min_xor])\n",
    ")"
   ]
  },
  {
   "cell_type": "code",
   "execution_count": 58,
   "metadata": {},
   "outputs": [
    {
     "name": "stdout",
     "output_type": "stream",
     "text": [
      "0.8966666666666667\n",
      "0.888842105263158\n"
     ]
    }
   ],
   "source": [
    "accur_score = list()\n",
    "\n",
    "for i in range(n_holdout_interations):\n",
    "    X_train, X_val, y_train, y_val = train_test_split(features_min_xor, y, test_size=0.5)#, random_state=1)\n",
    "    \n",
    "    record = dict()\n",
    "    for name, model in models.items():\n",
    "        model.fit(X_train, y_train.squeeze())\n",
    "        record[name] = accuracy_score(model.predict(X_val), y_val.squeeze())\n",
    "    accur_score.append(record)\n",
    "\n",
    "print(np.mean([i['svc'] for i in accur_score]))\n",
    "print(np.mean([i['lr'] for i in accur_score]))"
   ]
  },
  {
   "cell_type": "markdown",
   "metadata": {},
   "source": [
    "### Смотрим важность факторов из оригинального алгоритма"
   ]
  },
  {
   "cell_type": "code",
   "execution_count": 59,
   "metadata": {},
   "outputs": [
    {
     "name": "stdout",
     "output_type": "stream",
     "text": [
      "processing starting feature 0\n",
      "processing starting feature 1\n",
      "processing starting feature 2\n",
      "processing starting feature 3\n",
      "processing starting feature 4\n",
      "processing starting feature 5\n",
      "processing starting feature 6\n",
      "processing starting feature 7\n",
      "processing starting feature 8\n",
      "processing starting feature 9\n",
      "processing starting feature 10\n",
      "processing starting feature 11\n",
      "processing starting feature 12\n",
      "processing starting feature 13\n",
      "processing starting feature 14\n",
      "processing starting feature 15\n",
      "processing starting feature 16\n",
      "processing starting feature 17\n",
      "processing starting feature 18\n",
      "processing starting feature 19\n",
      "processing starting feature 20\n",
      "processing starting feature 21\n",
      "processing starting feature 22\n",
      "processing starting feature 23\n",
      "processing starting feature 24\n",
      "processing starting feature 25\n",
      "processing starting feature 26\n",
      "processing starting feature 27\n",
      "processing starting feature 28\n",
      "processing starting feature 29\n"
     ]
    }
   ],
   "source": [
    "features, indices = transform.fit_transform(X)"
   ]
  },
  {
   "cell_type": "code",
   "execution_count": 60,
   "metadata": {},
   "outputs": [],
   "source": [
    "unique_ix = np.unique(indices).tolist()\n",
    "ix_counts = {i: 0 for i in unique_ix}\n",
    "\n",
    "for row in indices:\n",
    "    ranks = dict(zip(row.tolist(), reversed(range(row.shape[0]))))\n",
    "    for i, j in ranks.items():\n",
    "        ix_counts[i] += j / (row.shape[0]**2)"
   ]
  },
  {
   "cell_type": "code",
   "execution_count": 61,
   "metadata": {},
   "outputs": [
    {
     "data": {
      "text/plain": [
       "<matplotlib.axes._subplots.AxesSubplot at 0x1a721d58fd0>"
      ]
     },
     "execution_count": 61,
     "metadata": {},
     "output_type": "execute_result"
    },
    {
     "data": {
      "image/png": "[encoded data removed]",
      "text/plain": [
       "<Figure size 432x288 with 1 Axes>"
      ]
     },
     "metadata": {},
     "output_type": "display_data"
    }
   ],
   "source": [
    "pd.Series(ix_counts).sort_values(ascending=False).plot(kind='bar')"
   ]
  },
  {
   "cell_type": "markdown",
   "metadata": {},
   "source": [
    "### Смотрим на коэффициенты в логистической регрессии (важность факторов)"
   ]
  },
  {
   "cell_type": "code",
   "execution_count": 62,
   "metadata": {},
   "outputs": [],
   "source": [
    "model_coefs = []\n",
    "\n",
    "for x_features in features:\n",
    "    c = copy(models['lr'])\n",
    "    c.fit(x_features, y)\n",
    "    \n",
    "    # summing over unique target values (32)\n",
    "    model_coefs.append(np.abs(c.coef_).sum(0))\n",
    "model_coefs = np.array(model_coefs)"
   ]
  },
  {
   "cell_type": "code",
   "execution_count": 63,
   "metadata": {},
   "outputs": [],
   "source": [
    "model_coefs = [model_coefs[:, i*32:(i+1)*32] for i in range(model_coefs.shape[1] // 32)]"
   ]
  },
  {
   "cell_type": "code",
   "execution_count": 64,
   "metadata": {},
   "outputs": [],
   "source": [
    "model_coefs_sum = [model_coefs[i].sum() for i in range(len(model_coefs))]"
   ]
  },
  {
   "cell_type": "code",
   "execution_count": 65,
   "metadata": {},
   "outputs": [
    {
     "data": {
      "text/plain": [
       "[(8892.276103227032, 0),\n",
       " (5925.927720803795, 1),\n",
       " (4448.318937046996, 2),\n",
       " (2020.805928390224, 3),\n",
       " (690.170170823113, 4),\n",
       " (433.36402862414093, 5),\n",
       " (389.05385793355555, 6),\n",
       " (248.54316111079206, 7),\n",
       " (155.74426813866228, 8),\n",
       " (98.54665638055785, 10),\n",
       " (85.5646065741701, 11),\n",
       " (63.53816502804242, 15),\n",
       " (54.20245200684375, 12),\n",
       " (47.1942790025224, 14),\n",
       " (44.97119145469634, 9),\n",
       " (41.40801766356499, 22),\n",
       " (29.347996471159092, 18),\n",
       " (27.54072451842155, 21),\n",
       " (20.88038600427168, 16),\n",
       " (19.44504004817435, 17),\n",
       " (16.59254004697532, 13),\n",
       " (13.97712133760724, 24),\n",
       " (13.423575895438004, 23),\n",
       " (7.860608367574702, 20),\n",
       " (7.384723478827215, 19),\n",
       " (1.8540813520348407, 25),\n",
       " (0.14397812633973306, 26),\n",
       " (0.0, 27),\n",
       " (0.0, 28)]"
      ]
     },
     "execution_count": 65,
     "metadata": {},
     "output_type": "execute_result"
    }
   ],
   "source": [
    "# ну, в принципе, все логично.\n",
    "\n",
    "sorted(zip(model_coefs_sum, range(len(model_coefs_sum))), key=lambda x: -x[0])"
   ]
  },
  {
   "cell_type": "code",
   "execution_count": null,
   "metadata": {},
   "outputs": [],
   "source": []
  }
 ],
 "metadata": {
  "kernelspec": {
   "display_name": "Python 3",
   "language": "python",
   "name": "python3"
  },
  "language_info": {
   "codemirror_mode": {
    "name": "ipython",
    "version": 3
   },
   "file_extension": ".py",
   "mimetype": "text/x-python",
   "name": "python",
   "nbconvert_exporter": "python",
   "pygments_lexer": "ipython3",
   "version": "3.6.6"
  }
 },
 "nbformat": 4,
 "nbformat_minor": 2
}
