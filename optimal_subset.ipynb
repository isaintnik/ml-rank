{
 "cells": [
  {
   "cell_type": "code",
   "execution_count": 1,
   "metadata": {},
   "outputs": [],
   "source": [
    "import numpy as np\n",
    "import pandas as pd\n",
    "\n",
    "from sklearn.preprocessing import OneHotEncoder\n",
    "from sklearn.base import TransformerMixin\n",
    "from sklearn.datasets import make_regression\n",
    "\n",
    "from sklearn.linear_model import LogisticRegression\n",
    "from sklearn.svm import LinearSVC\n",
    "from lightgbm import LGBMRegressor\n",
    "\n",
    "from scipy.stats import entropy\n",
    "from copy import deepcopy as copy\n",
    "\n",
    "%matplotlib inline"
   ]
  },
  {
   "cell_type": "code",
   "execution_count": 16,
   "metadata": {},
   "outputs": [],
   "source": [
    "import warnings\n",
    "warnings.filterwarnings('ignore')"
   ]
  },
  {
   "cell_type": "markdown",
   "metadata": {},
   "source": [
    "# Класс дискретизации по принципу деления по медиане"
   ]
  },
  {
   "cell_type": "code",
   "execution_count": 17,
   "metadata": {},
   "outputs": [],
   "source": [
    "# https://www.theanalysisfactor.com/continuous-and-categorical-variables-the-trouble-with-median-splits/"
   ]
  },
  {
   "cell_type": "code",
   "execution_count": 18,
   "metadata": {},
   "outputs": [],
   "source": [
    "class MedianBinarizer(TransformerMixin):\n",
    "    def __init__(self, n_bins: int):\n",
    "        self.n_bins = n_bins\n",
    "        self.x_bins = None\n",
    "        self.encoder = None\n",
    "    \n",
    "    def _get_feature_bins(self, X):\n",
    "        #extra_bin = 0\n",
    "        #if X.shape[0] % self.n_bins != 0:\n",
    "        #    extra_bin = 1\n",
    "        #    print('number of bins does not fit to dataset'\n",
    "        #          ', extending number of bins to extra one')\n",
    "        #\n",
    "        #n_batch = X.shape[0] // self.n_bins\n",
    "        #X_sorted = np.sort(X)\n",
    "        #x_bins = [X[i*n_batch:(i+1)*n_batch] for i in range(self.n_bins + extra_bin)]\n",
    "        \n",
    "        iterations = np.log2(self.n_bins)\n",
    "        if iterations - int(iterations) != 0:\n",
    "            raise Exception('bins should be a power of 2')\n",
    "        \n",
    "        # получаем вариационный ряд\n",
    "        x_bins = [np.sort(X)]\n",
    "        for i in range(int(iterations)):\n",
    "            new_bins = list()\n",
    "            for j in x_bins:\n",
    "                # середина среза вариационного ряда\n",
    "                index = j.shape[0] // 2\n",
    "                new_bins += [j[:index], j[index:]]\n",
    "            x_bins = new_bins\n",
    "        return x_bins\n",
    "    \n",
    "    def _lookup(self, x):\n",
    "        for k, _bin in enumerate(self.x_bins):\n",
    "            if x <= _bin[-1]:\n",
    "                return k\n",
    "        return k\n",
    "    \n",
    "    def _real_to_category(self, X):\n",
    "        # X should not be a column vector\n",
    "        X_new = []\n",
    "        for x in X:\n",
    "            i = self._lookup(x)\n",
    "            \n",
    "            if i != -1:\n",
    "                X_new.append(i)\n",
    "            else:\n",
    "                raise Exception('something went wrong')\n",
    "\n",
    "        return np.array(X_new).reshape(-1, 1)\n",
    "    \n",
    "    def fit(self, X):\n",
    "        self.x_bins = self._get_feature_bins(X)\n",
    "        X_cat = self._real_to_category(X)\n",
    "        \n",
    "        self.encoder = OneHotEncoder(sparse=False)\n",
    "        self.encoder.fit(X_cat)\n",
    "    \n",
    "    def transform_categorical(self, X):\n",
    "        return self._real_to_category(X)\n",
    "    \n",
    "    def transform_onehot(self, X):\n",
    "        x_cat = self._real_to_category(X)\n",
    "        return self.encoder.transform(x_cat)\n",
    "    \n",
    "    def onehot_to_categorical(self, X):\n",
    "        return np.argwhere(X)[:, 1]\n",
    "    \n",
    "    def categorical_to_onehot(self, X):\n",
    "        return self.encoder.transform(X)"
   ]
  },
  {
   "cell_type": "code",
   "execution_count": 19,
   "metadata": {},
   "outputs": [],
   "source": [
    "def synchronize_counts(_from: dict, _to: dict):\n",
    "    subset = np.setdiff1d(list(_from.keys()), list(_to.keys()))\n",
    "    for i in subset:\n",
    "        _to[i] = 0"
   ]
  },
  {
   "cell_type": "code",
   "execution_count": 20,
   "metadata": {},
   "outputs": [],
   "source": [
    "def cross_entropy(p, q):\n",
    "    p = np.array(p)\n",
    "    q = np.array(q)\n",
    "    q[q == 0] = 0.0001\n",
    "    return -np.sum(p * np.log(q))"
   ]
  },
  {
   "cell_type": "markdown",
   "metadata": {},
   "source": [
    "# Дискретизированные переменные имеют равномерное распределение"
   ]
  },
  {
   "cell_type": "code",
   "execution_count": 21,
   "metadata": {},
   "outputs": [],
   "source": [
    "binarizer = MedianBinarizer(32)"
   ]
  },
  {
   "cell_type": "code",
   "execution_count": 22,
   "metadata": {},
   "outputs": [],
   "source": [
    "rnd_vals = np.random.lognormal(size=1000)"
   ]
  },
  {
   "cell_type": "code",
   "execution_count": 23,
   "metadata": {},
   "outputs": [],
   "source": [
    "binarizer.fit(rnd_vals)\n",
    "result = binarizer.transform_categorical(rnd_vals)"
   ]
  },
  {
   "cell_type": "code",
   "execution_count": 24,
   "metadata": {},
   "outputs": [
    {
     "data": {
      "text/plain": [
       "<matplotlib.axes._subplots.AxesSubplot at 0x1cd530955f8>"
      ]
     },
     "execution_count": 24,
     "metadata": {},
     "output_type": "execute_result"
    },
    {
     "data": {
      "image/png": "[encoded data removed]",
      "text/plain": [
       "<Figure size 432x288 with 1 Axes>"
      ]
     },
     "metadata": {},
     "output_type": "display_data"
    }
   ],
   "source": [
    "pd.Series(result.squeeze()).value_counts().sort_index().plot.bar()"
   ]
  },
  {
   "cell_type": "code",
   "execution_count": 25,
   "metadata": {},
   "outputs": [],
   "source": [
    "X, y, coefs = make_regression(n_samples=2000, n_features=15, n_informative=4, n_targets=3, coef=True, random_state=42)\n",
    "# introduce multicollinearity  (15, 16, 17 features)\n",
    "X = np.concatenate([X, y], axis=1)"
   ]
  },
  {
   "cell_type": "code",
   "execution_count": 26,
   "metadata": {},
   "outputs": [],
   "source": [
    "feature_space = []\n",
    "binarizers = []\n",
    "for i in range(X.shape[1]):\n",
    "    feature = X[:, i].squeeze()\n",
    "    binarizer = MedianBinarizer(32)\n",
    "    binarizer.fit(feature)\n",
    "    binarizers.append(binarizer)\n",
    "    feature_space.append(\n",
    "        {'category': binarizer.transform_categorical(feature),\n",
    "        'onehot': binarizer.transform_onehot(feature)}\n",
    "    )"
   ]
  },
  {
   "cell_type": "code",
   "execution_count": 27,
   "metadata": {},
   "outputs": [],
   "source": [
    "test_classifiers = [\n",
    "    LogisticRegression(random_state=42, multi_class='ovr'),\n",
    "    LinearSVC(multi_class='ovr'),\n",
    "    LGBMRegressor(boosting_type='rf')\n",
    "]"
   ]
  },
  {
   "cell_type": "code",
   "execution_count": 51,
   "metadata": {},
   "outputs": [
    {
     "name": "stdout",
     "output_type": "stream",
     "text": [
      "[0, 13, 3, 16, 15, 17, 11, 10, 2, 6, 12, 9, 5, 4, 1, 7, 8, 14]\n",
      "[1, 6, 9, 7, 8, 11, 16, 4, 17, 15, 12, 13, 3, 0, 10, 5, 14, 2]\n",
      "[2, 10, 12, 17, 15, 5, 8, 9, 3, 1, 0, 6, 14, 7, 4, 13, 11, 16]\n",
      "[3, 5, 17, 15, 16, 11, 7, 10, 6, 1, 8, 4, 9, 13, 0, 14, 2, 12]\n",
      "[4, 16, 9, 3, 17, 2, 14, 7, 10, 12, 11, 5, 1, 13, 8, 6, 0, 15]\n",
      "[5, 8, 11, 15, 16, 10, 7, 3, 9, 17, 2, 12, 4, 13, 0, 6, 1, 14]\n",
      "[6, 11, 4, 16, 15, 9, 0, 17, 7, 3, 2, 14, 13, 1, 8, 10, 5, 12]\n",
      "[7, 12, 4, 5, 9, 11, 13, 15, 10, 3, 16, 2, 17, 1, 14, 0, 8, 6]\n",
      "[8, 16, 2, 12, 5, 10, 1, 14, 11, 6, 13, 7, 0, 3, 9, 17, 4, 15]\n",
      "[9, 8, 17, 11, 2, 10, 16, 7, 13, 0, 3, 5, 6, 1, 4, 12, 14, 15]\n",
      "[10, 15, 8, 12, 17, 5, 4, 0, 11, 6, 1, 7, 2, 13, 9, 3, 14, 16]\n",
      "[11, 0, 3, 16, 5, 8, 17, 13, 10, 12, 14, 6, 9, 1, 4, 7, 2, 15]\n",
      "[12, 8, 5, 3, 9, 0, 17, 14, 10, 15, 13, 6, 1, 11, 4, 2, 16, 7]\n",
      "[13, 6, 15, 11, 17, 10, 8, 1, 4, 7, 3, 5, 14, 0, 2, 12, 9, 16]\n",
      "[14, 11, 5, 16, 12, 1, 3, 4, 0, 7, 10, 13, 6, 17, 9, 2, 15, 8]\n",
      "[15, 10, 7, 8, 11, 3, 0, 17, 9, 4, 6, 5, 13, 1, 2, 12, 14, 16]\n",
      "[16, 10, 8, 17, 6, 11, 13, 9, 7, 12, 0, 2, 1, 4, 14, 5, 3, 15]\n",
      "[17, 10, 8, 14, 6, 3, 11, 16, 4, 12, 1, 5, 2, 9, 0, 7, 13, 15]\n",
      "real informative variables\n",
      "[0, 1, 2, 3, 10, 11, 15, 16, 17]\n"
     ]
    }
   ],
   "source": [
    "np.random.seed(42)\n",
    "\n",
    "global_stats = []\n",
    "ix_subsets = []\n",
    "for initial_feature in range(len(feature_space)):\n",
    "    #initial_feature = 0# np.random.randint(0, len(feature_space))\n",
    "\n",
    "    dataset_size = X.shape[0]\n",
    "    # free_features is a list of observation indices\n",
    "    free_features = [i for i in range(len(feature_space)) if i != initial_feature]\n",
    "    # subset is a list of observations\n",
    "    subset = [feature_space[initial_feature]['onehot']]\n",
    "    # indices of the features in the subset\n",
    "    subset_indices = [initial_feature]\n",
    "\n",
    "    while len(subset) != len(feature_space):\n",
    "        max_entropy = -1\n",
    "        feature_index = -1\n",
    "        new_feature = None\n",
    "\n",
    "        local_stats = []\n",
    "\n",
    "\n",
    "        for ix_feature, feature in enumerate(free_features):\n",
    "            if len(subset) > 1:\n",
    "                input_features = np.concatenate(subset, axis=1)\n",
    "            else:\n",
    "                input_features = subset[0]\n",
    "\n",
    "            clr = copy(test_classifiers[0])\n",
    "            #train model on the given subset and new feature\n",
    "            clr.fit(input_features, feature_space[feature]['category'].squeeze())\n",
    "            #predict that feature with the given subset\n",
    "            predicted = clr.predict(input_features)\n",
    "\n",
    "            predicted_onehot = binarizers[feature].categorical_to_onehot(predicted.reshape(-1, 1))\n",
    "            pred_difference = (predicted_onehot != feature_space[feature]['onehot']).astype(np.int32) # 0110\n",
    "            #pred_difference = ((predicted_onehot == 1) & (feature_space[feature]['onehot'] == 0)).astype(np.int32) # 0010\n",
    "\n",
    "            pred_category, pred_counts = np.unique(predicted, return_counts=True)\n",
    "            real_category, real_counts = np.unique(feature_space[feature]['category'], return_counts=True)\n",
    "\n",
    "            pred_proba = pred_counts / dataset_size\n",
    "            real_proba = real_counts / dataset_size\n",
    "\n",
    "            real_stats = dict(zip(real_category, real_proba))\n",
    "            pred_stats =  dict(zip(pred_category, pred_proba))\n",
    "\n",
    "            synchronize_counts(real_stats, pred_stats)\n",
    "\n",
    "            ce_r_r = cross_entropy(list(real_stats.values()), list(real_stats.values()))\n",
    "            ce_p_p = cross_entropy(list(pred_stats.values()), list(pred_stats.values()))\n",
    "            ce_r_p = cross_entropy(list(real_stats.values()), list(pred_stats.values()))\n",
    "\n",
    "            if max_entropy < ce_r_p:\n",
    "                max_entropy = ce_r_p\n",
    "                feature_index = ix_feature\n",
    "                new_feature = pred_difference\n",
    "\n",
    "            local_stats.append({'rr': ce_r_r, 'pp': ce_p_p, 'rp': ce_r_p})\n",
    "        #print('#'*100)\n",
    "        #print('subset', subset)\n",
    "        #print(pd.DataFrame(stats, index=free_features))\n",
    "        #print('#'*100)\n",
    "        \n",
    "        subset.append(new_feature)\n",
    "        subset_indices.append(free_features[feature_index])\n",
    "        del free_features[feature_index]\n",
    "\n",
    "    #print('generated ordered list of variables')\n",
    "    global_stats.append(local_stats)\n",
    "    ix_subsets.append(subset_indices)\n",
    "    print(subset_indices)\n",
    "print('real informative variables')\n",
    "print(np.unique(np.argwhere(coefs > 0)).tolist() + [15, 16, 17])"
   ]
  },
  {
   "cell_type": "markdown",
   "metadata": {},
   "source": [
    "# Попытка отранжировать переменные по значимости"
   ]
  },
  {
   "cell_type": "markdown",
   "metadata": {},
   "source": [
    "## (как часто кросс-энтропия была максимальной)"
   ]
  },
  {
   "cell_type": "code",
   "execution_count": 52,
   "metadata": {},
   "outputs": [],
   "source": [
    "indices_scores = {k: 0 for k in range(0, 18)}\n",
    "\n",
    "for i in ix_subsets:\n",
    "    for s, j in enumerate(i[::-1][:-1]):\n",
    "        indices_scores[j] += (s + 1)"
   ]
  },
  {
   "cell_type": "code",
   "execution_count": 53,
   "metadata": {},
   "outputs": [
    {
     "data": {
      "text/plain": [
       "<matplotlib.axes._subplots.AxesSubplot at 0x1cd54436860>"
      ]
     },
     "execution_count": 53,
     "metadata": {},
     "output_type": "execute_result"
    },
    {
     "data": {
      "image/png": "[encoded data removed]",
      "text/plain": [
       "<Figure size 432x288 with 1 Axes>"
      ]
     },
     "metadata": {},
     "output_type": "display_data"
    }
   ],
   "source": [
    "pd.Series(indices_scores).sort_values(ascending=False).plot(kind='bar')"
   ]
  },
  {
   "cell_type": "code",
   "execution_count": null,
   "metadata": {},
   "outputs": [],
   "source": []
  }
 ],
 "metadata": {
  "kernelspec": {
   "display_name": "Python 3",
   "language": "python",
   "name": "python3"
  },
  "language_info": {
   "codemirror_mode": {
    "name": "ipython",
    "version": 3
   },
   "file_extension": ".py",
   "mimetype": "text/x-python",
   "name": "python",
   "nbconvert_exporter": "python",
   "pygments_lexer": "ipython3",
   "version": "3.6.6"
  }
 },
 "nbformat": 4,
 "nbformat_minor": 2
}
