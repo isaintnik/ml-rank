{
 "cells": [
  {
   "cell_type": "code",
   "execution_count": 2,
   "metadata": {},
   "outputs": [],
   "source": [
    "import warnings\n",
    "warnings.filterwarnings('ignore')"
   ]
  },
  {
   "cell_type": "code",
   "execution_count": 1,
   "metadata": {},
   "outputs": [
    {
     "name": "stderr",
     "output_type": "stream",
     "text": [
      "/anaconda3/lib/python3.6/site-packages/lightgbm/__init__.py:46: UserWarning: Starting from version 2.2.1, the library file in distribution wheels for macOS is built by the Apple Clang (Xcode_9.4.1) compiler.\n",
      "This means that in case of installing LightGBM from PyPI via the ``pip install lightgbm`` command, you don't need to install the gcc compiler anymore.\n",
      "Instead of that, you need to install the OpenMP library, which is required for running LightGBM on the system with the Apple Clang compiler.\n",
      "You can install the OpenMP library by the following command: ``brew install libomp``.\n",
      "  \"You can install the OpenMP library by the following command: ``brew install libomp``.\", UserWarning)\n"
     ]
    }
   ],
   "source": [
    "import pandas as pd\n",
    "import numpy as np\n",
    "import struct\n",
    "\n",
    "from sklearn.manifold import LocallyLinearEmbedding as LLE\n",
    "from sklearn.linear_model import LogisticRegression\n",
    "from sklearn.svm import LinearSVC\n",
    "from lightgbm import LGBMClassifier \n",
    "\n",
    "from sklearn.metrics import accuracy_score\n",
    "from sklearn.utils import shuffle\n",
    "from sklearn.model_selection import KFold, train_test_split\n",
    "\n",
    "from hyperopt import fmin, tpe, hp\n",
    "from sklearn.model_selection import cross_val_score\n",
    "from bayes_opt import BayesianOptimization\n",
    "\n",
    "import matplotlib.pyplot as plt\n",
    "\n",
    "from copy import deepcopy as copy\n",
    "\n",
    "%matplotlib inline"
   ]
  },
  {
   "cell_type": "markdown",
   "metadata": {},
   "source": [
    "# RF regressor optimization code"
   ]
  },
  {
   "cell_type": "code",
   "execution_count": 3,
   "metadata": {},
   "outputs": [],
   "source": [
    "# hyperopt for lightgbm shows terrible results\n",
    "def hyperopt_optimization_lightgbm(X, y, cv=6, max_iter_opt=15):\n",
    "    space = hp.choice('clr_type', [\n",
    "        {\n",
    "            'type': 'lightgbm',\n",
    "            'feature_fraction': hp.uniform('feature_fraction', 0.05, 0.95),\n",
    "            'bagging_fraction': hp.uniform('bagging_fraction', 0.05, 0.95),\n",
    "            'bagging_freq': hp.uniform('bagging_freq', 1, 50),\n",
    "            'n_estimators': hp.uniform('n_estimators', 5, 50),\n",
    "            #'max_bin': hp.uniform('max_bin', )\n",
    "        }\n",
    "    ])\n",
    "\n",
    "    best = fmin(\n",
    "        fn=lambda args: cross_val_score(\n",
    "            LGBMClassifier(\n",
    "                boosting_type='rf', \n",
    "                feature_fraction=args['feature_fraction'], \n",
    "                bagging_freq=int(args['bagging_freq']), \n",
    "                bagging_fraction=args['bagging_fraction'],\n",
    "                n_estimators=int(args['n_estimators'])\n",
    "            ),\n",
    "            X, y.squeeze(), cv=KFold(n_splits=cv).split(X), scoring='accuracy'\n",
    "        ).mean(),\n",
    "        space=space,\n",
    "        algo=tpe.suggest,\n",
    "        max_evals=max_iter_opt\n",
    "    )\n",
    "    \n",
    "    return best\n",
    "\n",
    "def bayesian_optimization_lightgbm(X, y, cv=6, max_iter_opt=15):\n",
    "    svr_opt = BayesianOptimization(\n",
    "        lambda feature_fraction, bagging_freq, bagging_fraction, n_estimators: cross_val_score(\n",
    "            LGBMClassifier(\n",
    "                boosting_type='rf', \n",
    "                feature_fraction=feature_fraction, \n",
    "                bagging_freq=int(bagging_freq), \n",
    "                bagging_fraction=bagging_fraction,\n",
    "                n_estimators=int(n_estimators)\n",
    "            ),\n",
    "            X, y.squeeze(), cv=KFold(n_splits=cv).split(X), scoring='accuracy'\n",
    "        ).mean(),\n",
    "        {'feature_fraction': (0.05, 0.95),\n",
    "         'bagging_fraction': (0.05, 0.95),\n",
    "         'bagging_freq': (1, 50),\n",
    "         'n_estimators': (5, 50) },\n",
    "        verbose=0\n",
    "    )\n",
    "    \n",
    "    svr_opt.init(10)\n",
    "    svr_opt.maximize(init_points=10, n_iter=max_iter_opt)\n",
    "    \n",
    "    return svr_opt.res['max']['max_params']#['C']"
   ]
  },
  {
   "cell_type": "markdown",
   "metadata": {},
   "source": [
    "# MNIST"
   ]
  },
  {
   "cell_type": "code",
   "execution_count": 4,
   "metadata": {},
   "outputs": [],
   "source": [
    "def read_idx(filename):\n",
    "    with open(filename, 'rb') as f:\n",
    "        zero, data_type, dims = struct.unpack('>HBB', f.read(4))\n",
    "        shape = tuple(struct.unpack('>I', f.read(4))[0] for d in range(dims))\n",
    "        return np.fromstring(f.read(), dtype=np.uint8).reshape(shape)"
   ]
  },
  {
   "cell_type": "code",
   "execution_count": 5,
   "metadata": {},
   "outputs": [],
   "source": [
    "X = read_idx('../../../datasets/mnist/train-images.idx3-ubyte')\n",
    "y = read_idx('../../../datasets/mnist/train-labels.idx1-ubyte')"
   ]
  },
  {
   "cell_type": "code",
   "execution_count": 6,
   "metadata": {},
   "outputs": [],
   "source": [
    "X = X / np.max(X)"
   ]
  },
  {
   "cell_type": "code",
   "execution_count": 7,
   "metadata": {},
   "outputs": [],
   "source": [
    "X = X.reshape(X.shape[0], -1)"
   ]
  },
  {
   "cell_type": "code",
   "execution_count": 8,
   "metadata": {},
   "outputs": [],
   "source": [
    "X = X[:1000, :]\n",
    "y = y[:1000]"
   ]
  },
  {
   "cell_type": "code",
   "execution_count": 9,
   "metadata": {},
   "outputs": [],
   "source": [
    "X_train, X_val, y_train, y_val = train_test_split(X, y, test_size=0.1)"
   ]
  },
  {
   "cell_type": "code",
   "execution_count": 10,
   "metadata": {
    "scrolled": true
   },
   "outputs": [
    {
     "name": "stdout",
     "output_type": "stream",
     "text": [
      "dataset size: (1000, 784)\n"
     ]
    }
   ],
   "source": [
    "print('dataset size: {}'.format(X.shape))"
   ]
  },
  {
   "cell_type": "markdown",
   "metadata": {},
   "source": [
    "### Training model with LLE-processed data"
   ]
  },
  {
   "cell_type": "code",
   "execution_count": 11,
   "metadata": {},
   "outputs": [],
   "source": [
    "# number of components is fixed to 10\n",
    "lle = LLE(n_components=10)\n",
    "X_lle = lle.fit_transform(X_train)\n",
    "X_val_lle = lle.transform(X_val)"
   ]
  },
  {
   "cell_type": "code",
   "execution_count": 12,
   "metadata": {},
   "outputs": [],
   "source": [
    "X_lle, y_train = shuffle(X_lle, y_train)"
   ]
  },
  {
   "cell_type": "markdown",
   "metadata": {},
   "source": [
    "### * Estimating LightGBM params"
   ]
  },
  {
   "cell_type": "code",
   "execution_count": 18,
   "metadata": {},
   "outputs": [],
   "source": [
    "params_opt = hyperopt_optimization_lightgbm(X_lle, y_train, cv=4, max_iter_opt=10)"
   ]
  },
  {
   "cell_type": "code",
   "execution_count": 19,
   "metadata": {},
   "outputs": [],
   "source": [
    "params_opt['bagging_freq'] = int(params_opt['bagging_freq'])\n",
    "params_opt['n_estimators'] = int(params_opt['n_estimators'])"
   ]
  },
  {
   "cell_type": "code",
   "execution_count": 20,
   "metadata": {},
   "outputs": [],
   "source": [
    "models = {\n",
    "    'rf': LGBMClassifier(boosting_type='rf', **params_opt),\n",
    "    'lr': LogisticRegression(random_state=42, multi_class='ovr', solver='liblinear', C=10000, tol=1e-2),\n",
    "    'svc': LinearSVC(multi_class='ovr', C=10000, tol=1e-2),\n",
    "}"
   ]
  },
  {
   "cell_type": "markdown",
   "metadata": {},
   "source": [
    "### * Evaluate with CV"
   ]
  },
  {
   "cell_type": "code",
   "execution_count": 21,
   "metadata": {},
   "outputs": [
    {
     "name": "stdout",
     "output_type": "stream",
     "text": [
      "n_components: 1\n",
      "- cv for rf is ready\n",
      "- cv for lr is ready\n",
      "- cv for svc is ready\n",
      "n_components: 2\n",
      "- cv for rf is ready\n",
      "- cv for lr is ready\n",
      "- cv for svc is ready\n",
      "n_components: 3\n",
      "- cv for rf is ready\n",
      "- cv for lr is ready\n",
      "- cv for svc is ready\n",
      "n_components: 4\n",
      "- cv for rf is ready\n",
      "- cv for lr is ready\n",
      "- cv for svc is ready\n",
      "n_components: 5\n",
      "- cv for rf is ready\n",
      "- cv for lr is ready\n",
      "- cv for svc is ready\n",
      "n_components: 6\n",
      "- cv for rf is ready\n",
      "- cv for lr is ready\n",
      "- cv for svc is ready\n",
      "n_components: 7\n",
      "- cv for rf is ready\n",
      "- cv for lr is ready\n",
      "- cv for svc is ready\n",
      "n_components: 8\n",
      "- cv for rf is ready\n",
      "- cv for lr is ready\n",
      "- cv for svc is ready\n",
      "n_components: 9\n",
      "- cv for rf is ready\n",
      "- cv for lr is ready\n",
      "- cv for svc is ready\n",
      "n_components: 10\n",
      "- cv for rf is ready\n",
      "- cv for lr is ready\n",
      "- cv for svc is ready\n"
     ]
    }
   ],
   "source": [
    "stats = {}\n",
    "\n",
    "for n_components in range(1, 11):\n",
    "    print('n_components: {}'.format(n_components))\n",
    "    stats[n_components] = {'cv': dict(), 'val': dict()}\n",
    "    \n",
    "    lle = LLE(n_components=n_components)\n",
    "    X_lle = lle.fit_transform(X_train)\n",
    "    X_val_lle = lle.transform(X_val)\n",
    "    \n",
    "    for k, model in models.items():\n",
    "        stats[n_components]['cv'][k] = []\n",
    "        kfold = KFold(n_splits=4, shuffle=True, random_state=42)\n",
    "        \n",
    "        for train_ix, test_ix in kfold.split(X_lle, y_train):\n",
    "            _model = copy(model)\n",
    "            \n",
    "            X_crossval_train, X_crossval_test = X_lle[train_ix], X_lle[test_ix]\n",
    "            y_crossval_train, y_crossval_test = y_train[train_ix], y_train[test_ix]\n",
    "\n",
    "            # here must be sume sort of optimization\n",
    "            _model.fit(X_crossval_train, y_crossval_train.ravel())\n",
    "            stats[n_components]['cv'][k].append(accuracy_score(_model.predict(X_crossval_test), y_crossval_test, normalize=True))\n",
    "        print('- cv for ' + k + ' is ready')\n",
    "    \n",
    "    for name, model in models.items():\n",
    "        _model = copy(model)\n",
    "        _model.fit(X_lle, y_train.squeeze())\n",
    "        stats[n_components]['val'][name] = accuracy_score(_model.predict(X_val_lle), y_val.squeeze())"
   ]
  },
  {
   "cell_type": "code",
   "execution_count": 22,
   "metadata": {},
   "outputs": [
    {
     "data": {
      "text/plain": [
       "<matplotlib.axes._subplots.AxesSubplot at 0x119897b00>"
      ]
     },
     "execution_count": 22,
     "metadata": {},
     "output_type": "execute_result"
    },
    {
     "data": {
      "image/png": "[encoded data removed]",
      "text/plain": [
       "<Figure size 432x288 with 1 Axes>"
      ]
     },
     "metadata": {},
     "output_type": "display_data"
    }
   ],
   "source": [
    "_classifiers = []\n",
    "\n",
    "for n_components, _stats in stats.items():\n",
    "    lr_cv = np.mean(_stats['cv']['lr'])\n",
    "    svm_cv = np.mean(_stats['cv']['svc'])\n",
    "    rf_cv = np.mean(_stats['cv']['rf'])\n",
    "    \n",
    "    _classifiers.append([lr_cv, svm_cv, rf_cv])\n",
    "    \n",
    "pd.DataFrame(_classifiers, columns = ['lr', 'svc', 'rf']).plot()"
   ]
  },
  {
   "cell_type": "code",
   "execution_count": 23,
   "metadata": {
    "scrolled": true
   },
   "outputs": [
    {
     "data": {
      "text/plain": [
       "<matplotlib.axes._subplots.AxesSubplot at 0x119999d68>"
      ]
     },
     "execution_count": 23,
     "metadata": {},
     "output_type": "execute_result"
    },
    {
     "data": {
      "image/png": "[encoded data removed]",
      "text/plain": [
       "<Figure size 432x288 with 1 Axes>"
      ]
     },
     "metadata": {},
     "output_type": "display_data"
    }
   ],
   "source": [
    "_classifiers = []\n",
    "\n",
    "for n_components, _stats in stats.items():\n",
    "    lr_cv = np.mean(_stats['val']['lr'])\n",
    "    svm_cv = np.mean(_stats['val']['svc'])\n",
    "    rf_cv = np.mean(_stats['val']['rf'])\n",
    "    \n",
    "    _classifiers.append([lr_cv, svm_cv, rf_cv])\n",
    "    \n",
    "pd.DataFrame(_classifiers, columns = ['lr', 'svc', 'rf']).plot()"
   ]
  },
  {
   "cell_type": "markdown",
   "metadata": {},
   "source": [
    "# Credit Card Fraud"
   ]
  },
  {
   "cell_type": "code",
   "execution_count": 24,
   "metadata": {},
   "outputs": [],
   "source": [
    "df = pd.read_csv('../../../datasets/creditcard/creditcard.csv')"
   ]
  },
  {
   "cell_type": "code",
   "execution_count": 25,
   "metadata": {},
   "outputs": [],
   "source": [
    "X = df[np.setdiff1d(df.columns, [\"Class\", \"Time\"])].values\n",
    "y = df.Class.values"
   ]
  },
  {
   "cell_type": "code",
   "execution_count": 26,
   "metadata": {},
   "outputs": [],
   "source": [
    "X = X[:6000, :]\n",
    "y = y[:6000]"
   ]
  },
  {
   "cell_type": "code",
   "execution_count": 27,
   "metadata": {},
   "outputs": [],
   "source": [
    "X_train, X_val, y_train, y_val = train_test_split(X, y, test_size=0.1)"
   ]
  },
  {
   "cell_type": "code",
   "execution_count": 28,
   "metadata": {},
   "outputs": [
    {
     "name": "stdout",
     "output_type": "stream",
     "text": [
      "dataset size: (6000, 29)\n"
     ]
    }
   ],
   "source": [
    "print('dataset size: {}'.format(X.shape))"
   ]
  },
  {
   "cell_type": "markdown",
   "metadata": {},
   "source": [
    "### Training model with LLE-processed data"
   ]
  },
  {
   "cell_type": "code",
   "execution_count": 29,
   "metadata": {},
   "outputs": [],
   "source": [
    "# number of components is fixed to 10\n",
    "lle = LLE(n_components=10)\n",
    "X_lle = lle.fit_transform(X_train)\n",
    "X_val_lle = lle.transform(X_val)"
   ]
  },
  {
   "cell_type": "code",
   "execution_count": 30,
   "metadata": {},
   "outputs": [],
   "source": [
    "X_lle, y_train = shuffle(X_lle, y_train)"
   ]
  },
  {
   "cell_type": "markdown",
   "metadata": {},
   "source": [
    "### * Estimating LightGBM params"
   ]
  },
  {
   "cell_type": "code",
   "execution_count": 31,
   "metadata": {},
   "outputs": [],
   "source": [
    "params_opt = hyperopt_optimization_lightgbm(X_lle, y_train, cv=4, max_iter_opt=10)"
   ]
  },
  {
   "cell_type": "code",
   "execution_count": 32,
   "metadata": {},
   "outputs": [],
   "source": [
    "params_opt['bagging_freq'] = int(params_opt['bagging_freq'])\n",
    "params_opt['n_estimators'] = int(params_opt['n_estimators'])"
   ]
  },
  {
   "cell_type": "code",
   "execution_count": 33,
   "metadata": {},
   "outputs": [],
   "source": [
    "models = {\n",
    "    'rf': LGBMClassifier(boosting_type='rf', **params_opt),\n",
    "    'lr': LogisticRegression(random_state=42, multi_class='ovr', solver='liblinear', C=10000, tol=1e-2),\n",
    "    'svc': LinearSVC(multi_class='ovr', C=10000, tol=1e-2),\n",
    "}"
   ]
  },
  {
   "cell_type": "code",
   "execution_count": 34,
   "metadata": {
    "scrolled": true
   },
   "outputs": [
    {
     "name": "stdout",
     "output_type": "stream",
     "text": [
      "n_components: 1\n",
      "- cv for rf is ready\n",
      "- cv for lr is ready\n",
      "- cv for svc is ready\n",
      "n_components: 2\n",
      "- cv for rf is ready\n",
      "- cv for lr is ready\n",
      "- cv for svc is ready\n",
      "n_components: 3\n",
      "- cv for rf is ready\n",
      "- cv for lr is ready\n",
      "- cv for svc is ready\n",
      "n_components: 4\n",
      "- cv for rf is ready\n",
      "- cv for lr is ready\n",
      "- cv for svc is ready\n",
      "n_components: 5\n",
      "- cv for rf is ready\n",
      "- cv for lr is ready\n",
      "- cv for svc is ready\n",
      "n_components: 6\n",
      "- cv for rf is ready\n",
      "- cv for lr is ready\n",
      "- cv for svc is ready\n",
      "n_components: 7\n",
      "- cv for rf is ready\n",
      "- cv for lr is ready\n",
      "- cv for svc is ready\n",
      "n_components: 8\n",
      "- cv for rf is ready\n",
      "- cv for lr is ready\n",
      "- cv for svc is ready\n",
      "n_components: 9\n",
      "- cv for rf is ready\n",
      "- cv for lr is ready\n",
      "- cv for svc is ready\n",
      "n_components: 10\n",
      "- cv for rf is ready\n",
      "- cv for lr is ready\n",
      "- cv for svc is ready\n"
     ]
    }
   ],
   "source": [
    "stats = {}\n",
    "\n",
    "for n_components in range(1, 11):\n",
    "    print('n_components: {}'.format(n_components))\n",
    "    stats[n_components] = {'cv': dict(), 'val': dict()}\n",
    "    \n",
    "    lle = LLE(n_components=n_components)\n",
    "    X_lle = lle.fit_transform(X_train)\n",
    "    X_val_lle = lle.transform(X_val)\n",
    "    \n",
    "    for k, model in models.items():\n",
    "        stats[n_components]['cv'][k] = []\n",
    "        kfold = KFold(n_splits=4, shuffle=True, random_state=42)\n",
    "        \n",
    "        for train_ix, test_ix in kfold.split(X_lle, y_train):\n",
    "            _model = copy(model)\n",
    "            \n",
    "            X_crossval_train, X_crossval_test = X_lle[train_ix], X_lle[test_ix]\n",
    "            y_crossval_train, y_crossval_test = y_train[train_ix], y_train[test_ix]\n",
    "\n",
    "            # here must be sume sort of optimization\n",
    "            _model.fit(X_crossval_train, y_crossval_train.ravel())\n",
    "            stats[n_components]['cv'][k].append(accuracy_score(_model.predict(X_crossval_test), y_crossval_test, normalize=True))\n",
    "        print('- cv for ' + k + ' is ready')\n",
    "    \n",
    "    for name, model in models.items():\n",
    "        _model = copy(model)\n",
    "        _model.fit(X_lle, y_train.squeeze())\n",
    "        stats[n_components]['val'][name] = accuracy_score(_model.predict(X_val_lle), y_val.squeeze())"
   ]
  },
  {
   "cell_type": "code",
   "execution_count": 35,
   "metadata": {},
   "outputs": [
    {
     "data": {
      "text/plain": [
       "<matplotlib.axes._subplots.AxesSubplot at 0x1198a80b8>"
      ]
     },
     "execution_count": 35,
     "metadata": {},
     "output_type": "execute_result"
    },
    {
     "data": {
      "image/png": "[encoded data removed]",
      "text/plain": [
       "<Figure size 432x288 with 1 Axes>"
      ]
     },
     "metadata": {},
     "output_type": "display_data"
    }
   ],
   "source": [
    "_classifiers = []\n",
    "\n",
    "for n_components, _stats in stats.items():\n",
    "    lr_cv = np.mean(_stats['cv']['lr'])\n",
    "    svm_cv = np.mean(_stats['cv']['svc'])\n",
    "    rf_cv = np.mean(_stats['cv']['rf'])\n",
    "    \n",
    "    _classifiers.append([lr_cv, svm_cv, rf_cv])\n",
    "    \n",
    "pd.DataFrame(_classifiers, columns = ['lr', 'svc', 'rf']).plot()"
   ]
  },
  {
   "cell_type": "code",
   "execution_count": 36,
   "metadata": {},
   "outputs": [
    {
     "data": {
      "text/plain": [
       "<matplotlib.axes._subplots.AxesSubplot at 0x11a5c2908>"
      ]
     },
     "execution_count": 36,
     "metadata": {},
     "output_type": "execute_result"
    },
    {
     "data": {
      "image/png": "[encoded data removed]",
      "text/plain": [
       "<Figure size 432x288 with 1 Axes>"
      ]
     },
     "metadata": {},
     "output_type": "display_data"
    }
   ],
   "source": [
    "_classifiers = []\n",
    "\n",
    "for n_components, _stats in stats.items():\n",
    "    lr_cv = np.mean(_stats['val']['lr'])\n",
    "    svm_cv = np.mean(_stats['val']['svc'])\n",
    "    rf_cv = np.mean(_stats['val']['rf'])\n",
    "    \n",
    "    _classifiers.append([lr_cv, svm_cv, rf_cv])\n",
    "    \n",
    "pd.DataFrame(_classifiers, columns = ['lr', 'svc', 'rf']).plot()"
   ]
  },
  {
   "cell_type": "markdown",
   "metadata": {},
   "source": [
    "# Breast Cancer"
   ]
  },
  {
   "cell_type": "code",
   "execution_count": 37,
   "metadata": {},
   "outputs": [],
   "source": [
    "df = pd.read_csv('../../../datasets/cancer/breast_cancer.csv')\n",
    "y = df.diagnosis.replace('M', 0).replace('B', 1).values\n",
    "X = np.asarray(df.drop(['diagnosis', 'id', 'Unnamed: 32'], axis=1).as_matrix())"
   ]
  },
  {
   "cell_type": "code",
   "execution_count": 38,
   "metadata": {},
   "outputs": [],
   "source": [
    "X_train, X_val, y_train, y_val = train_test_split(X, y, test_size=0.1)"
   ]
  },
  {
   "cell_type": "code",
   "execution_count": 39,
   "metadata": {},
   "outputs": [
    {
     "name": "stdout",
     "output_type": "stream",
     "text": [
      "dataset size: (569, 30)\n"
     ]
    }
   ],
   "source": [
    "print('dataset size: {}'.format(X.shape))"
   ]
  },
  {
   "cell_type": "markdown",
   "metadata": {},
   "source": [
    "### Training model with LLE-processed data"
   ]
  },
  {
   "cell_type": "code",
   "execution_count": 40,
   "metadata": {},
   "outputs": [],
   "source": [
    "# number of components is fixed to 10\n",
    "lle = LLE(n_components=10)\n",
    "X_lle = lle.fit_transform(X_train)\n",
    "X_val_lle = lle.transform(X_val)"
   ]
  },
  {
   "cell_type": "code",
   "execution_count": 41,
   "metadata": {},
   "outputs": [],
   "source": [
    "X_lle, y_train = shuffle(X_lle, y_train)"
   ]
  },
  {
   "cell_type": "markdown",
   "metadata": {},
   "source": [
    "### * Estimating LightGBM params"
   ]
  },
  {
   "cell_type": "code",
   "execution_count": 42,
   "metadata": {},
   "outputs": [],
   "source": [
    "params_opt = hyperopt_optimization_lightgbm(X_lle, y_train, cv=4, max_iter_opt=10)"
   ]
  },
  {
   "cell_type": "code",
   "execution_count": 43,
   "metadata": {},
   "outputs": [],
   "source": [
    "params_opt['bagging_freq'] = int(params_opt['bagging_freq'])\n",
    "params_opt['n_estimators'] = int(params_opt['n_estimators'])"
   ]
  },
  {
   "cell_type": "code",
   "execution_count": 44,
   "metadata": {},
   "outputs": [],
   "source": [
    "models = {\n",
    "    'rf': LGBMClassifier(boosting_type='rf', **params_opt),\n",
    "    'lr': LogisticRegression(random_state=42, multi_class='ovr', solver='liblinear', C=10000, tol=1e-2),\n",
    "    'svc': LinearSVC(multi_class='ovr', C=10000),\n",
    "}"
   ]
  },
  {
   "cell_type": "code",
   "execution_count": 45,
   "metadata": {},
   "outputs": [
    {
     "name": "stdout",
     "output_type": "stream",
     "text": [
      "n_components: 1\n",
      "- cv for rf is ready\n",
      "- cv for lr is ready\n",
      "- cv for svc is ready\n",
      "n_components: 2\n",
      "- cv for rf is ready\n",
      "- cv for lr is ready\n",
      "- cv for svc is ready\n",
      "n_components: 3\n",
      "- cv for rf is ready\n",
      "- cv for lr is ready\n",
      "- cv for svc is ready\n",
      "n_components: 4\n",
      "- cv for rf is ready\n",
      "- cv for lr is ready\n",
      "- cv for svc is ready\n",
      "n_components: 5\n",
      "- cv for rf is ready\n",
      "- cv for lr is ready\n",
      "- cv for svc is ready\n",
      "n_components: 6\n",
      "- cv for rf is ready\n",
      "- cv for lr is ready\n",
      "- cv for svc is ready\n",
      "n_components: 7\n",
      "- cv for rf is ready\n",
      "- cv for lr is ready\n",
      "- cv for svc is ready\n",
      "n_components: 8\n",
      "- cv for rf is ready\n",
      "- cv for lr is ready\n",
      "- cv for svc is ready\n",
      "n_components: 9\n",
      "- cv for rf is ready\n",
      "- cv for lr is ready\n",
      "- cv for svc is ready\n",
      "n_components: 10\n",
      "- cv for rf is ready\n",
      "- cv for lr is ready\n",
      "- cv for svc is ready\n"
     ]
    }
   ],
   "source": [
    "stats = {}\n",
    "\n",
    "for n_components in range(1, 11):\n",
    "    print('n_components: {}'.format(n_components))\n",
    "    stats[n_components] = {'cv': dict(), 'val': dict()}\n",
    "    \n",
    "    lle = LLE(n_components=n_components)\n",
    "    X_lle = lle.fit_transform(X_train)\n",
    "    X_val_lle = lle.transform(X_val)\n",
    "    \n",
    "    for k, model in models.items():\n",
    "        stats[n_components]['cv'][k] = []\n",
    "        kfold = KFold(n_splits=4, shuffle=True, random_state=42)\n",
    "        \n",
    "        for train_ix, test_ix in kfold.split(X_lle, y_train):\n",
    "            _model = copy(model)\n",
    "            \n",
    "            X_crossval_train, X_crossval_test = X_lle[train_ix], X_lle[test_ix]\n",
    "            y_crossval_train, y_crossval_test = y_train[train_ix], y_train[test_ix]\n",
    "\n",
    "            # here must be sume sort of optimization\n",
    "            _model.fit(X_crossval_train, y_crossval_train.ravel())\n",
    "            stats[n_components]['cv'][k].append(accuracy_score(_model.predict(X_crossval_test), y_crossval_test, normalize=True))\n",
    "        print('- cv for ' + k + ' is ready')\n",
    "    \n",
    "    for name, model in models.items():\n",
    "        _model = copy(model)\n",
    "        _model.fit(X_lle, y_train.squeeze())\n",
    "        stats[n_components]['val'][name] = accuracy_score(_model.predict(X_val_lle), y_val.squeeze())"
   ]
  },
  {
   "cell_type": "code",
   "execution_count": 46,
   "metadata": {},
   "outputs": [
    {
     "data": {
      "text/plain": [
       "<matplotlib.axes._subplots.AxesSubplot at 0x110eeeef0>"
      ]
     },
     "execution_count": 46,
     "metadata": {},
     "output_type": "execute_result"
    },
    {
     "data": {
      "image/png": "[encoded data removed]",
      "text/plain": [
       "<Figure size 432x288 with 1 Axes>"
      ]
     },
     "metadata": {},
     "output_type": "display_data"
    }
   ],
   "source": [
    "_classifiers = []\n",
    "\n",
    "for n_components, _stats in stats.items():\n",
    "    lr_cv = np.mean(_stats['cv']['lr'])\n",
    "    svm_cv = np.mean(_stats['cv']['svc'])\n",
    "    rf_cv = np.mean(_stats['cv']['rf'])\n",
    "    \n",
    "    _classifiers.append([lr_cv, svm_cv, rf_cv])\n",
    "    \n",
    "pd.DataFrame(_classifiers, columns = ['lr', 'svc', 'rf']).plot()"
   ]
  },
  {
   "cell_type": "code",
   "execution_count": 47,
   "metadata": {},
   "outputs": [
    {
     "data": {
      "text/plain": [
       "<matplotlib.axes._subplots.AxesSubplot at 0x119bdfe10>"
      ]
     },
     "execution_count": 47,
     "metadata": {},
     "output_type": "execute_result"
    },
    {
     "data": {
      "image/png": "[encoded data removed]",
      "text/plain": [
       "<Figure size 432x288 with 1 Axes>"
      ]
     },
     "metadata": {},
     "output_type": "display_data"
    }
   ],
   "source": [
    "_classifiers = []\n",
    "\n",
    "for n_components, _stats in stats.items():\n",
    "    lr_cv = np.mean(_stats['val']['lr'])\n",
    "    svm_cv = np.mean(_stats['val']['svc'])\n",
    "    rf_cv = np.mean(_stats['val']['rf'])\n",
    "    \n",
    "    _classifiers.append([lr_cv, svm_cv, rf_cv])\n",
    "    \n",
    "pd.DataFrame(_classifiers, columns = ['lr', 'svc', 'rf']).plot()"
   ]
  },
  {
   "cell_type": "code",
   "execution_count": null,
   "metadata": {},
   "outputs": [],
   "source": []
  }
 ],
 "metadata": {
  "kernelspec": {
   "display_name": "Python 3",
   "language": "python",
   "name": "python3"
  },
  "language_info": {
   "codemirror_mode": {
    "name": "ipython",
    "version": 3
   },
   "file_extension": ".py",
   "mimetype": "text/x-python",
   "name": "python",
   "nbconvert_exporter": "python",
   "pygments_lexer": "ipython3",
   "version": "3.6.5"
  }
 },
 "nbformat": 4,
 "nbformat_minor": 2
}
