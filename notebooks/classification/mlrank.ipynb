{
 "cells": [
  {
   "cell_type": "code",
   "execution_count": 1,
   "metadata": {},
   "outputs": [],
   "source": [
    "import warnings\n",
    "warnings.filterwarnings('ignore')"
   ]
  },
  {
   "cell_type": "code",
   "execution_count": 2,
   "metadata": {},
   "outputs": [],
   "source": [
    "import pandas as pd\n",
    "import numpy as np\n",
    "import struct\n",
    "from importlib import reload\n",
    "\n",
    "from sklearn.preprocessing import StandardScaler\n",
    "\n",
    "from sklearn.linear_model import LogisticRegression\n",
    "from sklearn.svm import LinearSVC\n",
    "from lightgbm import LGBMClassifier \n",
    "\n",
    "from sklearn.metrics import accuracy_score\n",
    "from sklearn.utils import shuffle\n",
    "from sklearn.model_selection import KFold, train_test_split, cross_val_score\n",
    "\n",
    "from hyperopt import fmin, tpe, hp\n",
    "from bayes_opt import BayesianOptimization\n",
    "\n",
    "from scipy.stats import entropy\n",
    "from scipy import sparse\n",
    "\n",
    "import matplotlib.pyplot as plt\n",
    "\n",
    "from copy import deepcopy as copy\n",
    "\n",
    "%matplotlib inline"
   ]
  },
  {
   "cell_type": "code",
   "execution_count": 3,
   "metadata": {},
   "outputs": [],
   "source": [
    "import sys\n",
    "sys.path.append('../../')"
   ]
  },
  {
   "cell_type": "code",
   "execution_count": 4,
   "metadata": {},
   "outputs": [],
   "source": [
    "import mlrank.dichtomization as dichtomization\n",
    "import mlrank.orthogonalization as orthogonalization\n",
    "import mlrank.hyperparams_opt as hyperparams_opt\n",
    "\n",
    "reload(dichtomization)\n",
    "reload(orthogonalization)\n",
    "reload(hyperparams_opt)\n",
    "\n",
    "MaxentropyMedianDichtomizationTransformer = dichtomization.MaxentropyMedianDichtomizationTransformer\n",
    "MLRankTransformer = orthogonalization.MLRankTransformer\n",
    "MLRankTargetBasedTransformer = orthogonalization.MLRankTargetBasedTransformer\n",
    "bayesian_optimization_lightgbm = hyperparams_opt.bayesian_optimization_lightgbm"
   ]
  },
  {
   "cell_type": "markdown",
   "metadata": {},
   "source": [
    "# Breast Cancer"
   ]
  },
  {
   "cell_type": "code",
   "execution_count": 5,
   "metadata": {},
   "outputs": [],
   "source": [
    "df = pd.read_csv('../../datasets/cancer/breast_cancer.csv')\n",
    "y = df.diagnosis.replace('M', 0).replace('B', 1).values\n",
    "X = np.asarray(df.drop(['diagnosis', 'id', 'Unnamed: 32'], axis=1).as_matrix())"
   ]
  },
  {
   "cell_type": "code",
   "execution_count": null,
   "metadata": {},
   "outputs": [],
   "source": []
  },
  {
   "cell_type": "code",
   "execution_count": 6,
   "metadata": {},
   "outputs": [],
   "source": [
    "X = StandardScaler().fit_transform(X)"
   ]
  },
  {
   "cell_type": "code",
   "execution_count": 7,
   "metadata": {},
   "outputs": [],
   "source": [
    "models = {\n",
    "    #'rf': LGBMClassifier(boosting_type='rf', **params_opt),\n",
    "    'lr': LogisticRegression(random_state=42, multi_class='ovr', solver='liblinear', C=10000, tol=1e-2),\n",
    "    'svc': LinearSVC(multi_class='ovr', C=10000, tol=1e-6, random_state=42),\n",
    "}"
   ]
  },
  {
   "cell_type": "code",
   "execution_count": 59,
   "metadata": {},
   "outputs": [],
   "source": [
    "transform = MLRankTransformer(models['lr'], exhausitve=True, verbose=1)\n",
    "# используем SVC, так как LR не сходится по энтропии к таргету на данном датасете\n",
    "transform_target_min_xor = MLRankTargetBasedTransformer(models['svc'], verbose=1, use_xor=True, use_max_entropy=False)\n",
    "transform_target_max_xor = MLRankTargetBasedTransformer(models['svc'], verbose=1, use_xor=True, use_max_entropy=True)"
   ]
  },
  {
   "cell_type": "code",
   "execution_count": 469,
   "metadata": {},
   "outputs": [
    {
     "name": "stdout",
     "output_type": "stream",
     "text": [
      "processing starting feature 0\n",
      "processing starting feature 1\n",
      "processing starting feature 2\n",
      "processing starting feature 3\n",
      "processing starting feature 4\n",
      "processing starting feature 5\n",
      "processing starting feature 6\n",
      "processing starting feature 7\n",
      "processing starting feature 8\n",
      "processing starting feature 9\n",
      "processing starting feature 10\n",
      "processing starting feature 11\n",
      "processing starting feature 12\n",
      "processing starting feature 13\n",
      "processing starting feature 14\n",
      "processing starting feature 15\n",
      "processing starting feature 16\n",
      "processing starting feature 17\n",
      "processing starting feature 18\n",
      "processing starting feature 19\n",
      "processing starting feature 20\n",
      "processing starting feature 21\n",
      "processing starting feature 22\n",
      "processing starting feature 23\n",
      "processing starting feature 24\n",
      "processing starting feature 25\n",
      "processing starting feature 26\n",
      "processing starting feature 27\n",
      "processing starting feature 28\n",
      "processing starting feature 29\n"
     ]
    }
   ],
   "source": [
    "features, indices = transform.fit_transform(X)"
   ]
  },
  {
   "cell_type": "code",
   "execution_count": 66,
   "metadata": {},
   "outputs": [],
   "source": [
    "features_target_min_equi, indices_target_min_equi = transform_target_min_equi.fit_transform(X, y.reshape(-1, 1))\n",
    "features_target_max_xor, indices_target_max_xor = transform_target_max_xor.fit_transform(X, y.reshape(-1, 1))"
   ]
  },
  {
   "cell_type": "code",
   "execution_count": 67,
   "metadata": {},
   "outputs": [],
   "source": [
    "features_target_min_xor, indices_target_min_xor = transform_target_min_xor.fit_transform(X, y.reshape(-1, 1))"
   ]
  },
  {
   "cell_type": "code",
   "execution_count": 68,
   "metadata": {},
   "outputs": [
    {
     "name": "stdout",
     "output_type": "stream",
     "text": [
      "[23, 3, 0, 1, 2, 4]\n",
      "[9, 15, 0, 1]\n",
      "[23, 3, 0, 1]\n"
     ]
    }
   ],
   "source": [
    "print(indices_target_min_equi) # пересечение с истинным оптимальным ('6', '20', '21', '27', '28')\n",
    "print(indices_target_max_xor) # пересечение с истинным оптимальным и с ранжированными коэффициентыми логистической регрессии [2, 22, 21, 13, 20]\n",
    "print(indices_target_min_xor)"
   ]
  },
  {
   "cell_type": "markdown",
   "metadata": {},
   "source": [
    "## Считаем точность на оптимальном сабсете, полученном из таргета (min, <\\-\\>)"
   ]
  },
  {
   "cell_type": "code",
   "execution_count": 70,
   "metadata": {},
   "outputs": [
    {
     "name": "stdout",
     "output_type": "stream",
     "text": [
      "0.9126912280701756\n",
      "0.9575508771929826\n"
     ]
    }
   ],
   "source": [
    "accur_score = list()\n",
    "\n",
    "for i in range(1000):\n",
    "    X_train, X_val, y_train, y_val = train_test_split(X[:, indices_target_min_equi], y, test_size=0.5)#, random_state=1)\n",
    "    \n",
    "    record = dict()\n",
    "    for name, model in models.items():\n",
    "        model.fit(X_train, y_train.squeeze())\n",
    "        record[name] = accuracy_score(model.predict(X_val), y_val.squeeze())\n",
    "    accur_score.append(record)\n",
    "\n",
    "print(np.mean([i['svc'] for i in accur_score]))\n",
    "print(np.mean([i['lr'] for i in accur_score]))"
   ]
  },
  {
   "cell_type": "code",
   "execution_count": 65,
   "metadata": {},
   "outputs": [
    {
     "name": "stdout",
     "output_type": "stream",
     "text": [
      "lr is ready\n",
      "svc is ready\n"
     ]
    }
   ],
   "source": [
    "stats = {}\n",
    "\n",
    "for k, model in models.items():\n",
    "    stats[k] = []\n",
    "    kfold = KFold(n_splits=32, shuffle=True)\n",
    "    \n",
    "    for train_ix, test_ix in kfold.split(X_train, y_train):\n",
    "        X_crossval_train, X_crossval_test = X_train[train_ix], X_train[test_ix]\n",
    "        y_crossval_train, y_crossval_test = y_train[train_ix], y_train[test_ix]\n",
    "        \n",
    "        # here must be sume sort of optimization\n",
    "        model.fit(X_crossval_train, y_crossval_train.ravel())\n",
    "        stats[k].append(accuracy_score(model.predict(X_crossval_test), y_crossval_test, normalize=True))\n",
    "    print(k + ' is ready')"
   ]
  },
  {
   "cell_type": "code",
   "execution_count": 41,
   "metadata": {},
   "outputs": [
    {
     "name": "stdout",
     "output_type": "stream",
     "text": [
      "for pure data (averate scores):\n",
      "lr, Accuracy: 0.96484375\n",
      "svc, Accuracy: 0.8927951388888888\n"
     ]
    }
   ],
   "source": [
    "print('for pure data (averate scores):')\n",
    "for model, model_stats in stats.items():\n",
    "    print('{}, Accuracy: {}'.format(model, np.mean(model_stats)))"
   ]
  },
  {
   "cell_type": "code",
   "execution_count": 42,
   "metadata": {},
   "outputs": [
    {
     "name": "stdout",
     "output_type": "stream",
     "text": [
      "for pure data (validation scores):\n",
      "pure: lr, Accuracy: 0.9543859649122807\n",
      "pure: svc, Accuracy: 0.9438596491228071\n"
     ]
    }
   ],
   "source": [
    "from scipy import sparse\n",
    "\n",
    "print('for pure data (validation scores):')\n",
    "for name, model in models.items():\n",
    "    model.fit(X_train, y_train.squeeze())\n",
    "    print('pure: {}, Accuracy: {}'.format(name, accuracy_score(model.predict(X_val), y_val.squeeze())))"
   ]
  },
  {
   "cell_type": "markdown",
   "metadata": {},
   "source": [
    "### Ортогонализуем специально под SVC"
   ]
  },
  {
   "cell_type": "code",
   "execution_count": 576,
   "metadata": {},
   "outputs": [],
   "source": [
    "optimal_transform = MLRankTransformer(models['svc'], exhausitve=False, verbose=1)"
   ]
  },
  {
   "cell_type": "code",
   "execution_count": 577,
   "metadata": {},
   "outputs": [],
   "source": [
    "features_min_equi, _  = optimal_transform.fit_transform(\n",
    "    np.hstack([X[:, i].reshape(-1, 1) for i in indices_target_min_equi])\n",
    ")"
   ]
  },
  {
   "cell_type": "code",
   "execution_count": 578,
   "metadata": {},
   "outputs": [],
   "source": [
    "X_train, X_val, y_train, y_val = train_test_split(features_min_equi, y, test_size=0.1, random_state=42)"
   ]
  },
  {
   "cell_type": "code",
   "execution_count": 579,
   "metadata": {},
   "outputs": [
    {
     "name": "stdout",
     "output_type": "stream",
     "text": [
      "lr is ready\n",
      "svc is ready\n"
     ]
    }
   ],
   "source": [
    "stats = {}\n",
    "\n",
    "for k, model in models.items():\n",
    "    stats[k] = []\n",
    "    kfold = KFold(n_splits=32, shuffle=True)\n",
    "    \n",
    "    for train_ix, test_ix in kfold.split(X_train, y_train):\n",
    "        X_crossval_train, X_crossval_test = X_train[train_ix], X_train[test_ix]\n",
    "        y_crossval_train, y_crossval_test = y_train[train_ix], y_train[test_ix]\n",
    "        \n",
    "        # here must be sume sort of optimization\n",
    "        model.fit(X_crossval_train, y_crossval_train.ravel())\n",
    "        stats[k].append(accuracy_score(model.predict(X_crossval_test), y_crossval_test, normalize=True))\n",
    "    print(k + ' is ready')"
   ]
  },
  {
   "cell_type": "code",
   "execution_count": 580,
   "metadata": {},
   "outputs": [
    {
     "name": "stdout",
     "output_type": "stream",
     "text": [
      "for pure data (averate scores):\n",
      "lr, Accuracy: 0.865234375\n",
      "svc, Accuracy: 0.8359375\n"
     ]
    }
   ],
   "source": [
    "print('for pure data (averate scores):')\n",
    "for model, model_stats in stats.items():\n",
    "    print('{}, Accuracy: {}'.format(model, np.mean(model_stats)))"
   ]
  },
  {
   "cell_type": "code",
   "execution_count": 581,
   "metadata": {},
   "outputs": [
    {
     "name": "stdout",
     "output_type": "stream",
     "text": [
      "for pure data (validation scores):\n",
      "pure: lr, Accuracy: 0.8771929824561403\n",
      "pure: svc, Accuracy: 0.8771929824561403\n"
     ]
    }
   ],
   "source": [
    "print('for pure data (validation scores):')\n",
    "for name, model in models.items():\n",
    "    model.fit(X_train, y_train.squeeze())\n",
    "    print('pure: {}, Accuracy: {}'.format(name, accuracy_score(model.predict(X_val), y_val.squeeze())))"
   ]
  },
  {
   "cell_type": "markdown",
   "metadata": {},
   "source": [
    "### Считаем точность на оптимальном сабсете, полученном из таргета (max, xor)"
   ]
  },
  {
   "cell_type": "code",
   "execution_count": 582,
   "metadata": {},
   "outputs": [],
   "source": [
    "X_train, X_val, y_train, y_val = train_test_split(X[:, indices_target_max_xor], y, test_size=0.1, random_state=42)"
   ]
  },
  {
   "cell_type": "code",
   "execution_count": 583,
   "metadata": {},
   "outputs": [
    {
     "name": "stdout",
     "output_type": "stream",
     "text": [
      "lr is ready\n",
      "svc is ready\n"
     ]
    }
   ],
   "source": [
    "stats = {}\n",
    "\n",
    "for k, model in models.items():\n",
    "    stats[k] = []\n",
    "    kfold = KFold(n_splits=32, shuffle=True)\n",
    "    \n",
    "    for train_ix, test_ix in kfold.split(X_train, y_train):\n",
    "        X_crossval_train, X_crossval_test = X_train[train_ix], X_train[test_ix]\n",
    "        y_crossval_train, y_crossval_test = y_train[train_ix], y_train[test_ix]\n",
    "        \n",
    "        # here must be sume sort of optimization\n",
    "        model.fit(X_crossval_train, y_crossval_train.ravel())\n",
    "        stats[k].append(accuracy_score(model.predict(X_crossval_test), y_crossval_test, normalize=True))\n",
    "    print(k + ' is ready')"
   ]
  },
  {
   "cell_type": "code",
   "execution_count": 584,
   "metadata": {},
   "outputs": [
    {
     "name": "stdout",
     "output_type": "stream",
     "text": [
      "for pure data (averate scores):\n",
      "lr, Accuracy: 0.94140625\n",
      "svc, Accuracy: 0.830078125\n"
     ]
    }
   ],
   "source": [
    "print('for pure data (averate scores):')\n",
    "for model, model_stats in stats.items():\n",
    "    print('{}, Accuracy: {}'.format(model, np.mean(model_stats)))"
   ]
  },
  {
   "cell_type": "code",
   "execution_count": 585,
   "metadata": {},
   "outputs": [
    {
     "name": "stdout",
     "output_type": "stream",
     "text": [
      "for pure data (validation scores):\n",
      "pure: lr, Accuracy: 0.9298245614035088\n",
      "pure: svc, Accuracy: 0.8771929824561403\n"
     ]
    }
   ],
   "source": [
    "from scipy import sparse\n",
    "\n",
    "print('for pure data (validation scores):')\n",
    "for name, model in models.items():\n",
    "    model.fit(X_train, y_train.squeeze())\n",
    "    print('pure: {}, Accuracy: {}'.format(name, accuracy_score(model.predict(X_val), y_val.squeeze())))"
   ]
  },
  {
   "cell_type": "markdown",
   "metadata": {},
   "source": [
    "### Ортогонализуем специально под SVC"
   ]
  },
  {
   "cell_type": "code",
   "execution_count": 586,
   "metadata": {},
   "outputs": [],
   "source": [
    "optimal_transform = MLRankTransformer(models['svc'], exhausitve=False, verbose=1)"
   ]
  },
  {
   "cell_type": "code",
   "execution_count": 587,
   "metadata": {},
   "outputs": [],
   "source": [
    "features_max_xor, _  = optimal_transform.fit_transform(\n",
    "    np.hstack([X[:, i].reshape(-1, 1) for i in indices_target_max_xor])\n",
    ")"
   ]
  },
  {
   "cell_type": "code",
   "execution_count": 588,
   "metadata": {},
   "outputs": [],
   "source": [
    "X_train, X_val, y_train, y_val = train_test_split(features_min_equi, y, test_size=0.1, random_state=42)"
   ]
  },
  {
   "cell_type": "code",
   "execution_count": 589,
   "metadata": {},
   "outputs": [
    {
     "name": "stdout",
     "output_type": "stream",
     "text": [
      "lr is ready\n",
      "svc is ready\n"
     ]
    }
   ],
   "source": [
    "stats = {}\n",
    "\n",
    "for k, model in models.items():\n",
    "    stats[k] = []\n",
    "    kfold = KFold(n_splits=32, shuffle=True)\n",
    "    \n",
    "    for train_ix, test_ix in kfold.split(X_train, y_train):\n",
    "        X_crossval_train, X_crossval_test = X_train[train_ix], X_train[test_ix]\n",
    "        y_crossval_train, y_crossval_test = y_train[train_ix], y_train[test_ix]\n",
    "        \n",
    "        # here must be sume sort of optimization\n",
    "        model.fit(X_crossval_train, y_crossval_train.ravel())\n",
    "        stats[k].append(accuracy_score(model.predict(X_crossval_test), y_crossval_test, normalize=True))\n",
    "    print(k + ' is ready')"
   ]
  },
  {
   "cell_type": "code",
   "execution_count": 590,
   "metadata": {},
   "outputs": [
    {
     "name": "stdout",
     "output_type": "stream",
     "text": [
      "for pure data (averate scores):\n",
      "lr, Accuracy: 0.865234375\n",
      "svc, Accuracy: 0.8359375\n"
     ]
    }
   ],
   "source": [
    "print('for pure data (averate scores):')\n",
    "for model, model_stats in stats.items():\n",
    "    print('{}, Accuracy: {}'.format(model, np.mean(model_stats)))"
   ]
  },
  {
   "cell_type": "code",
   "execution_count": 591,
   "metadata": {},
   "outputs": [
    {
     "name": "stdout",
     "output_type": "stream",
     "text": [
      "for pure data (validation scores):\n",
      "pure: lr, Accuracy: 0.8771929824561403\n",
      "pure: svc, Accuracy: 0.8771929824561403\n"
     ]
    }
   ],
   "source": [
    "from scipy import sparse\n",
    "\n",
    "print('for pure data (validation scores):')\n",
    "for name, model in models.items():\n",
    "    model.fit(X_train, y_train.squeeze())\n",
    "    print('pure: {}, Accuracy: {}'.format(name, accuracy_score(model.predict(X_val), y_val.squeeze())))"
   ]
  },
  {
   "cell_type": "markdown",
   "metadata": {},
   "source": [
    "### Смотрим важность факторов из оригинального алгоритма"
   ]
  },
  {
   "cell_type": "code",
   "execution_count": 592,
   "metadata": {},
   "outputs": [],
   "source": [
    "unique_ix = np.unique(indices).tolist()\n",
    "ix_counts = {i: 0 for i in unique_ix}\n",
    "\n",
    "for row in indices:\n",
    "    ranks = dict(zip(row.tolist(), reversed(range(row.shape[0]))))\n",
    "    for i, j in ranks.items():\n",
    "        ix_counts[i] += j / (row.shape[0]**2)"
   ]
  },
  {
   "cell_type": "code",
   "execution_count": 593,
   "metadata": {},
   "outputs": [
    {
     "data": {
      "text/plain": [
       "<matplotlib.axes._subplots.AxesSubplot at 0x25f19fe8d68>"
      ]
     },
     "execution_count": 593,
     "metadata": {},
     "output_type": "execute_result"
    },
    {
     "data": {
      "image/png": "[encoded data removed]",
      "text/plain": [
       "<Figure size 432x288 with 1 Axes>"
      ]
     },
     "metadata": {},
     "output_type": "display_data"
    }
   ],
   "source": [
    "pd.Series(ix_counts).sort_values(ascending=False).plot(kind='bar')"
   ]
  },
  {
   "cell_type": "markdown",
   "metadata": {},
   "source": [
    "### Смотрим на коэффициенты в логистической регрессии (важность факторов)"
   ]
  },
  {
   "cell_type": "code",
   "execution_count": 594,
   "metadata": {},
   "outputs": [],
   "source": [
    "model_coefs = []\n",
    "\n",
    "for x_features in features:\n",
    "    c = copy(models['lr'])\n",
    "    c.fit(x_features, y)\n",
    "    \n",
    "    # summing over unique target values (32)\n",
    "    model_coefs.append(np.abs(c.coef_).sum(0))\n",
    "model_coefs = np.array(model_coefs)"
   ]
  },
  {
   "cell_type": "code",
   "execution_count": 595,
   "metadata": {},
   "outputs": [],
   "source": [
    "model_coefs = [model_coefs[:, i*32:(i+1)*32] for i in range(model_coefs.shape[1] // 32)]"
   ]
  },
  {
   "cell_type": "code",
   "execution_count": 596,
   "metadata": {},
   "outputs": [],
   "source": [
    "model_coefs_sum = [model_coefs[i].sum() for i in range(len(model_coefs))]"
   ]
  },
  {
   "cell_type": "code",
   "execution_count": 597,
   "metadata": {},
   "outputs": [
    {
     "data": {
      "text/plain": [
       "[(4770.690515856979, 0),\n",
       " (4042.145837308146, 3),\n",
       " (2587.0352020443147, 1),\n",
       " (2562.3329986623203, 2),\n",
       " (1951.2870336485007, 4),\n",
       " (953.3887281526677, 5),\n",
       " (646.7843049228878, 6),\n",
       " (503.72574259078556, 7),\n",
       " (370.9363758652515, 8),\n",
       " (300.24122400194244, 9),\n",
       " (171.20365178733994, 10),\n",
       " (149.48364027050798, 11),\n",
       " (132.47428392049858, 12),\n",
       " (125.43516632237723, 14),\n",
       " (114.66153692510102, 13),\n",
       " (94.95297687409656, 15),\n",
       " (80.70629831875058, 16),\n",
       " (49.87183744041835, 17),\n",
       " (12.265003447414351, 18),\n",
       " (0.0, 19),\n",
       " (0.0, 20),\n",
       " (0.0, 21),\n",
       " (0.0, 22),\n",
       " (0.0, 23),\n",
       " (0.0, 24),\n",
       " (0.0, 25),\n",
       " (0.0, 26),\n",
       " (0.0, 27),\n",
       " (0.0, 28)]"
      ]
     },
     "execution_count": 597,
     "metadata": {},
     "output_type": "execute_result"
    }
   ],
   "source": [
    "# ну, в принципе, все логично.\n",
    "\n",
    "sorted(zip(model_coefs_sum, range(len(model_coefs_sum))), key=lambda x: -x[0])"
   ]
  },
  {
   "cell_type": "code",
   "execution_count": null,
   "metadata": {},
   "outputs": [],
   "source": []
  }
 ],
 "metadata": {
  "kernelspec": {
   "display_name": "Python 3",
   "language": "python",
   "name": "python3"
  },
  "language_info": {
   "codemirror_mode": {
    "name": "ipython",
    "version": 3
   },
   "file_extension": ".py",
   "mimetype": "text/x-python",
   "name": "python",
   "nbconvert_exporter": "python",
   "pygments_lexer": "ipython3",
   "version": "3.6.3"
  }
 },
 "nbformat": 4,
 "nbformat_minor": 2
}
