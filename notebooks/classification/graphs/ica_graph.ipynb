{
 "cells": [
  {
   "cell_type": "code",
   "execution_count": 141,
   "metadata": {},
   "outputs": [],
   "source": [
    "import warnings\n",
    "warnings.filterwarnings('ignore')"
   ]
  },
  {
   "cell_type": "code",
   "execution_count": 142,
   "metadata": {},
   "outputs": [],
   "source": [
    "import pandas as pd\n",
    "import numpy as np\n",
    "import struct\n",
    "\n",
    "from sklearn.preprocessing import StandardScaler\n",
    "from sklearn.decomposition import FastICA\n",
    "from sklearn.linear_model import LogisticRegression\n",
    "from sklearn.svm import LinearSVC\n",
    "from lightgbm import LGBMClassifier \n",
    "\n",
    "from sklearn.metrics import accuracy_score\n",
    "from sklearn.utils import shuffle\n",
    "from sklearn.model_selection import KFold, train_test_split\n",
    "\n",
    "from hyperopt import fmin, tpe, hp\n",
    "from sklearn.model_selection import cross_val_score\n",
    "from bayes_opt import BayesianOptimization\n",
    "\n",
    "import matplotlib.pyplot as plt\n",
    "\n",
    "from copy import deepcopy as copy\n",
    "\n",
    "%matplotlib inline"
   ]
  },
  {
   "cell_type": "markdown",
   "metadata": {},
   "source": [
    "# RF regressor optimization code"
   ]
  },
  {
   "cell_type": "code",
   "execution_count": 143,
   "metadata": {},
   "outputs": [],
   "source": [
    "def bayesian_optimization_lightgbm(X, y, cv=6, max_iter_opt=15):\n",
    "    svr_opt = BayesianOptimization(\n",
    "        lambda feature_fraction, bagging_freq, bagging_fraction, n_estimators: cross_val_score(\n",
    "            LGBMClassifier(\n",
    "                boosting_type='rf', \n",
    "                feature_fraction=feature_fraction, \n",
    "                bagging_freq=int(bagging_freq), \n",
    "                bagging_fraction=bagging_fraction,\n",
    "                n_estimators=int(n_estimators)\n",
    "            ),\n",
    "            X, y.squeeze(), cv=KFold(n_splits=cv).split(X), scoring='accuracy'\n",
    "        ).mean(),\n",
    "        {'feature_fraction': (0.05, 0.95),\n",
    "         'bagging_fraction': (0.05, 0.95),\n",
    "         'bagging_freq': (1, 50),\n",
    "         'n_estimators': (5, 50) },\n",
    "        verbose=0\n",
    "    )\n",
    "    \n",
    "    svr_opt.init(10)\n",
    "    svr_opt.maximize(n_iter=max_iter_opt)\n",
    "    \n",
    "    return svr_opt.res['max']['max_params']#['C']"
   ]
  },
  {
   "cell_type": "markdown",
   "metadata": {},
   "source": [
    "# MNIST"
   ]
  },
  {
   "cell_type": "code",
   "execution_count": 144,
   "metadata": {},
   "outputs": [],
   "source": [
    "def read_idx(filename):\n",
    "    with open(filename, 'rb') as f:\n",
    "        zero, data_type, dims = struct.unpack('>HBB', f.read(4))\n",
    "        shape = tuple(struct.unpack('>I', f.read(4))[0] for d in range(dims))\n",
    "        return np.fromstring(f.read(), dtype=np.uint8).reshape(shape)"
   ]
  },
  {
   "cell_type": "code",
   "execution_count": 145,
   "metadata": {},
   "outputs": [],
   "source": [
    "X = read_idx('../datasets/mnist/train-images.idx3-ubyte')\n",
    "y = read_idx('../datasets/mnist/train-labels.idx1-ubyte')"
   ]
  },
  {
   "cell_type": "code",
   "execution_count": 146,
   "metadata": {},
   "outputs": [],
   "source": [
    "X = X / np.max(X)"
   ]
  },
  {
   "cell_type": "code",
   "execution_count": 147,
   "metadata": {},
   "outputs": [],
   "source": [
    "X = X.reshape(X.shape[0], -1)"
   ]
  },
  {
   "cell_type": "code",
   "execution_count": 148,
   "metadata": {},
   "outputs": [],
   "source": [
    "X_train, X_val, y_train, y_val = train_test_split(X, y, test_size=0.1)"
   ]
  },
  {
   "cell_type": "code",
   "execution_count": 149,
   "metadata": {},
   "outputs": [
    {
     "name": "stdout",
     "output_type": "stream",
     "text": [
      "dataset size: (60000, 784)\n"
     ]
    }
   ],
   "source": [
    "print('dataset size: {}'.format(X.shape))"
   ]
  },
  {
   "cell_type": "markdown",
   "metadata": {},
   "source": [
    "### Training model with PCA-processed data"
   ]
  },
  {
   "cell_type": "code",
   "execution_count": 150,
   "metadata": {},
   "outputs": [],
   "source": [
    "# number of components is fixed to 10\n",
    "pca = FastICA(n_components=10)\n",
    "X_ica = pca.fit_transform(X_train)\n",
    "X_ica_pca = pca.transform(X_val)"
   ]
  },
  {
   "cell_type": "markdown",
   "metadata": {},
   "source": [
    "### * Estimating LightGBM params"
   ]
  },
  {
   "cell_type": "code",
   "execution_count": 151,
   "metadata": {},
   "outputs": [],
   "source": [
    "params_opt = bayesian_optimization_lightgbm(X_ica, y_train, cv=4, max_iter_opt=10)"
   ]
  },
  {
   "cell_type": "code",
   "execution_count": 152,
   "metadata": {},
   "outputs": [],
   "source": [
    "params_opt['bagging_freq'] = int(params_opt['bagging_freq'])\n",
    "params_opt['n_estimators'] = int(params_opt['n_estimators'])"
   ]
  },
  {
   "cell_type": "code",
   "execution_count": 153,
   "metadata": {},
   "outputs": [],
   "source": [
    "models = {\n",
    "    'rf': LGBMClassifier(boosting_type='rf', **params_opt),\n",
    "    'lr': LogisticRegression(random_state=42, multi_class='ovr', solver='liblinear', C=10000, tol=1e-2),\n",
    "    'svc': LinearSVC(multi_class='ovr', C=10000, tol=1e-2),\n",
    "}"
   ]
  },
  {
   "cell_type": "markdown",
   "metadata": {},
   "source": [
    "### * Evaluate with CV"
   ]
  },
  {
   "cell_type": "code",
   "execution_count": 154,
   "metadata": {},
   "outputs": [
    {
     "name": "stdout",
     "output_type": "stream",
     "text": [
      "n_components: 1\n",
      "- cv for rf is ready\n",
      "- cv for lr is ready\n",
      "- cv for svc is ready\n",
      "n_components: 2\n",
      "- cv for rf is ready\n",
      "- cv for lr is ready\n",
      "- cv for svc is ready\n",
      "n_components: 3\n",
      "- cv for rf is ready\n",
      "- cv for lr is ready\n",
      "- cv for svc is ready\n",
      "n_components: 4\n",
      "- cv for rf is ready\n",
      "- cv for lr is ready\n",
      "- cv for svc is ready\n",
      "n_components: 5\n",
      "- cv for rf is ready\n",
      "- cv for lr is ready\n",
      "- cv for svc is ready\n",
      "n_components: 6\n",
      "- cv for rf is ready\n",
      "- cv for lr is ready\n",
      "- cv for svc is ready\n",
      "n_components: 7\n",
      "- cv for rf is ready\n",
      "- cv for lr is ready\n",
      "- cv for svc is ready\n",
      "n_components: 8\n",
      "- cv for rf is ready\n",
      "- cv for lr is ready\n",
      "- cv for svc is ready\n",
      "n_components: 9\n",
      "- cv for rf is ready\n",
      "- cv for lr is ready\n",
      "- cv for svc is ready\n",
      "n_components: 10\n",
      "- cv for rf is ready\n",
      "- cv for lr is ready\n",
      "- cv for svc is ready\n"
     ]
    }
   ],
   "source": [
    "stats = {}\n",
    "\n",
    "for n_components in range(1, 11):\n",
    "    print('n_components: {}'.format(n_components))\n",
    "    stats[n_components] = {'cv': dict(), 'val': dict()}\n",
    "    \n",
    "    pca = FastICA(n_components=n_components)\n",
    "    X_ica = pca.fit_transform(X_train)\n",
    "    X_val_pca = pca.transform(X_val)\n",
    "    \n",
    "    for k, model in models.items():\n",
    "        stats[n_components]['cv'][k] = []\n",
    "        kfold = KFold(n_splits=4, shuffle=True, random_state=42)\n",
    "        \n",
    "        for train_ix, test_ix in kfold.split(X_ica, y_train):\n",
    "            _model = copy(model)\n",
    "            \n",
    "            X_crossval_train, X_crossval_test = X_ica[train_ix], X_ica[test_ix]\n",
    "            y_crossval_train, y_crossval_test = y_train[train_ix], y_train[test_ix]\n",
    "\n",
    "            # here must be sume sort of optimization\n",
    "            _model.fit(X_crossval_train, y_crossval_train.ravel())\n",
    "            stats[n_components]['cv'][k].append(accuracy_score(_model.predict(X_crossval_test), y_crossval_test, normalize=True))\n",
    "        print('- cv for ' + k + ' is ready')\n",
    "    \n",
    "    for name, model in models.items():\n",
    "        _model = copy(model)\n",
    "        _model.fit(X_ica, y_train.squeeze())\n",
    "        stats[n_components]['val'][name] = accuracy_score(_model.predict(X_val_pca), y_val.squeeze())"
   ]
  },
  {
   "cell_type": "code",
   "execution_count": 155,
   "metadata": {},
   "outputs": [
    {
     "data": {
      "text/plain": [
       "<matplotlib.axes._subplots.AxesSubplot at 0x1a580a99ac8>"
      ]
     },
     "execution_count": 155,
     "metadata": {},
     "output_type": "execute_result"
    },
    {
     "data": {
      "image/png": "[encoded data removed]",
      "text/plain": [
       "<Figure size 432x288 with 1 Axes>"
      ]
     },
     "metadata": {},
     "output_type": "display_data"
    }
   ],
   "source": [
    "_classifiers = []\n",
    "\n",
    "for n_components, _stats in stats.items():\n",
    "    lr_cv = np.mean(_stats['cv']['lr'])\n",
    "    svm_cv = np.mean(_stats['cv']['svc'])\n",
    "    rf_cv = np.mean(_stats['cv']['rf'])\n",
    "    \n",
    "    _classifiers.append([lr_cv, svm_cv, rf_cv])\n",
    "    \n",
    "pd.DataFrame(_classifiers, columns = ['lr', 'svc', 'rf']).plot()"
   ]
  },
  {
   "cell_type": "code",
   "execution_count": 156,
   "metadata": {},
   "outputs": [
    {
     "data": {
      "text/plain": [
       "<matplotlib.axes._subplots.AxesSubplot at 0x1a580b01b70>"
      ]
     },
     "execution_count": 156,
     "metadata": {},
     "output_type": "execute_result"
    },
    {
     "data": {
      "image/png": "[encoded data removed]",
      "text/plain": [
       "<Figure size 432x288 with 1 Axes>"
      ]
     },
     "metadata": {},
     "output_type": "display_data"
    }
   ],
   "source": [
    "_classifiers = []\n",
    "\n",
    "for n_components, _stats in stats.items():\n",
    "    lr_cv = np.mean(_stats['val']['lr'])\n",
    "    svm_cv = np.mean(_stats['val']['svc'])\n",
    "    rf_cv = np.mean(_stats['val']['rf'])\n",
    "    \n",
    "    _classifiers.append([lr_cv, svm_cv, rf_cv])\n",
    "    \n",
    "pd.DataFrame(_classifiers, columns = ['lr', 'svc', 'rf']).plot()"
   ]
  },
  {
   "cell_type": "markdown",
   "metadata": {},
   "source": [
    "# Credit Card Fraud"
   ]
  },
  {
   "cell_type": "code",
   "execution_count": 157,
   "metadata": {},
   "outputs": [],
   "source": [
    "df = pd.read_csv('../datasets/creditcard/creditcard.csv')"
   ]
  },
  {
   "cell_type": "code",
   "execution_count": 158,
   "metadata": {},
   "outputs": [],
   "source": [
    "X = df[np.setdiff1d(df.columns, [\"Class\", \"Time\"])].values\n",
    "y = df.Class.values"
   ]
  },
  {
   "cell_type": "code",
   "execution_count": 159,
   "metadata": {},
   "outputs": [],
   "source": [
    "X = StandardScaler().fit_transform(X)"
   ]
  },
  {
   "cell_type": "code",
   "execution_count": 160,
   "metadata": {},
   "outputs": [],
   "source": [
    "X_train, X_val, y_train, y_val = train_test_split(X, y, test_size=0.1)"
   ]
  },
  {
   "cell_type": "code",
   "execution_count": 161,
   "metadata": {},
   "outputs": [
    {
     "name": "stdout",
     "output_type": "stream",
     "text": [
      "dataset size: (284807, 29)\n"
     ]
    }
   ],
   "source": [
    "print('dataset size: {}'.format(X.shape))"
   ]
  },
  {
   "cell_type": "markdown",
   "metadata": {},
   "source": [
    "### Training model with PCA-processed data"
   ]
  },
  {
   "cell_type": "code",
   "execution_count": 162,
   "metadata": {},
   "outputs": [],
   "source": [
    "# number of components is fixed to 10\n",
    "pca = FastICA(n_components=10)\n",
    "X_ica = pca.fit_transform(X_train)\n",
    "X_val_pca = pca.transform(X_val)"
   ]
  },
  {
   "cell_type": "markdown",
   "metadata": {},
   "source": [
    "### * Estimating LightGBM params"
   ]
  },
  {
   "cell_type": "code",
   "execution_count": 163,
   "metadata": {},
   "outputs": [],
   "source": [
    "params_opt = bayesian_optimization_lightgbm(X_ica, y_train, cv=4, max_iter_opt=10)"
   ]
  },
  {
   "cell_type": "code",
   "execution_count": 164,
   "metadata": {},
   "outputs": [],
   "source": [
    "params_opt['bagging_freq'] = int(params_opt['bagging_freq'])\n",
    "params_opt['n_estimators'] = int(params_opt['n_estimators'])"
   ]
  },
  {
   "cell_type": "code",
   "execution_count": 165,
   "metadata": {},
   "outputs": [],
   "source": [
    "models = {\n",
    "    'rf': LGBMClassifier(boosting_type='rf', **params_opt),\n",
    "    'lr': LogisticRegression(random_state=42, multi_class='ovr', solver='liblinear', C=10000, tol=1e-2),\n",
    "    'svc': LinearSVC(multi_class='ovr', C=10000, tol=1e-2),\n",
    "}"
   ]
  },
  {
   "cell_type": "code",
   "execution_count": 166,
   "metadata": {},
   "outputs": [
    {
     "name": "stdout",
     "output_type": "stream",
     "text": [
      "n_components: 1\n",
      "- cv for rf is ready\n",
      "- cv for lr is ready\n",
      "- cv for svc is ready\n",
      "n_components: 2\n",
      "- cv for rf is ready\n",
      "- cv for lr is ready\n",
      "- cv for svc is ready\n",
      "n_components: 3\n",
      "- cv for rf is ready\n",
      "- cv for lr is ready\n",
      "- cv for svc is ready\n",
      "n_components: 4\n",
      "- cv for rf is ready\n",
      "- cv for lr is ready\n",
      "- cv for svc is ready\n",
      "n_components: 5\n",
      "- cv for rf is ready\n",
      "- cv for lr is ready\n",
      "- cv for svc is ready\n",
      "n_components: 6\n",
      "- cv for rf is ready\n",
      "- cv for lr is ready\n",
      "- cv for svc is ready\n",
      "n_components: 7\n",
      "- cv for rf is ready\n",
      "- cv for lr is ready\n",
      "- cv for svc is ready\n",
      "n_components: 8\n",
      "- cv for rf is ready\n",
      "- cv for lr is ready\n",
      "- cv for svc is ready\n",
      "n_components: 9\n",
      "- cv for rf is ready\n",
      "- cv for lr is ready\n",
      "- cv for svc is ready\n",
      "n_components: 10\n",
      "- cv for rf is ready\n",
      "- cv for lr is ready\n",
      "- cv for svc is ready\n"
     ]
    }
   ],
   "source": [
    "stats = {}\n",
    "\n",
    "for n_components in range(1, 11):\n",
    "    print('n_components: {}'.format(n_components))\n",
    "    stats[n_components] = {'cv': dict(), 'val': dict()}\n",
    "    \n",
    "    pca = FastICA(n_components=n_components)\n",
    "    X_ica = pca.fit_transform(X_train)\n",
    "    X_val_pca = pca.transform(X_val)\n",
    "    \n",
    "    for k, model in models.items():\n",
    "        stats[n_components]['cv'][k] = []\n",
    "        kfold = KFold(n_splits=4, shuffle=True, random_state=42)\n",
    "        \n",
    "        for train_ix, test_ix in kfold.split(X_ica, y_train):\n",
    "            _model = copy(model)\n",
    "            \n",
    "            X_crossval_train, X_crossval_test = X_ica[train_ix], X_ica[test_ix]\n",
    "            y_crossval_train, y_crossval_test = y_train[train_ix], y_train[test_ix]\n",
    "\n",
    "            # here must be sume sort of optimization\n",
    "            _model.fit(X_crossval_train, y_crossval_train.ravel())\n",
    "            stats[n_components]['cv'][k].append(accuracy_score(_model.predict(X_crossval_test), y_crossval_test, normalize=True))\n",
    "        print('- cv for ' + k + ' is ready')\n",
    "    \n",
    "    for name, model in models.items():\n",
    "        _model = copy(model)\n",
    "        _model.fit(X_ica, y_train.squeeze())\n",
    "        stats[n_components]['val'][name] = accuracy_score(_model.predict(X_val_pca), y_val.squeeze())"
   ]
  },
  {
   "cell_type": "code",
   "execution_count": 167,
   "metadata": {},
   "outputs": [
    {
     "data": {
      "text/plain": [
       "<matplotlib.axes._subplots.AxesSubplot at 0x1a580b7e2e8>"
      ]
     },
     "execution_count": 167,
     "metadata": {},
     "output_type": "execute_result"
    },
    {
     "data": {
      "image/png": "[encoded data removed]",
      "text/plain": [
       "<Figure size 432x288 with 1 Axes>"
      ]
     },
     "metadata": {},
     "output_type": "display_data"
    }
   ],
   "source": [
    "_classifiers = []\n",
    "\n",
    "for n_components, _stats in stats.items():\n",
    "    lr_cv = np.mean(_stats['cv']['lr'])\n",
    "    svm_cv = np.mean(_stats['cv']['svc'])\n",
    "    rf_cv = np.mean(_stats['cv']['rf'])\n",
    "    \n",
    "    _classifiers.append([lr_cv, svm_cv, rf_cv])\n",
    "    \n",
    "pd.DataFrame(_classifiers, columns = ['lr', 'svc', 'rf']).plot()"
   ]
  },
  {
   "cell_type": "code",
   "execution_count": 168,
   "metadata": {},
   "outputs": [
    {
     "data": {
      "text/plain": [
       "<matplotlib.axes._subplots.AxesSubplot at 0x1a580bccf60>"
      ]
     },
     "execution_count": 168,
     "metadata": {},
     "output_type": "execute_result"
    },
    {
     "data": {
      "image/png": "[encoded data removed]",
      "text/plain": [
       "<Figure size 432x288 with 1 Axes>"
      ]
     },
     "metadata": {},
     "output_type": "display_data"
    }
   ],
   "source": [
    "_classifiers = []\n",
    "\n",
    "for n_components, _stats in stats.items():\n",
    "    lr_cv = np.mean(_stats['val']['lr'])\n",
    "    svm_cv = np.mean(_stats['val']['svc'])\n",
    "    rf_cv = np.mean(_stats['val']['rf'])\n",
    "    \n",
    "    _classifiers.append([lr_cv, svm_cv, rf_cv])\n",
    "    \n",
    "pd.DataFrame(_classifiers, columns = ['lr', 'svc', 'rf']).plot()"
   ]
  },
  {
   "cell_type": "markdown",
   "metadata": {},
   "source": [
    "# Breast Cancer"
   ]
  },
  {
   "cell_type": "code",
   "execution_count": 126,
   "metadata": {},
   "outputs": [],
   "source": [
    "df = pd.read_csv('../datasets/cancer/breast_cancer.csv')\n",
    "y = df.diagnosis.replace('M', 0).replace('B', 1).values\n",
    "X = np.asarray(df.drop(['diagnosis', 'id', 'Unnamed: 32'], axis=1).as_matrix())"
   ]
  },
  {
   "cell_type": "code",
   "execution_count": 127,
   "metadata": {},
   "outputs": [],
   "source": [
    "X = StandardScaler().fit_transform(X)"
   ]
  },
  {
   "cell_type": "code",
   "execution_count": 128,
   "metadata": {},
   "outputs": [],
   "source": [
    "X_train, X_val, y_train, y_val = train_test_split(X, y, test_size=0.1)"
   ]
  },
  {
   "cell_type": "code",
   "execution_count": 129,
   "metadata": {},
   "outputs": [
    {
     "name": "stdout",
     "output_type": "stream",
     "text": [
      "dataset size: (569, 30)\n"
     ]
    }
   ],
   "source": [
    "print('dataset size: {}'.format(X.shape))"
   ]
  },
  {
   "cell_type": "markdown",
   "metadata": {},
   "source": [
    "### Training model with PCA-processed data"
   ]
  },
  {
   "cell_type": "code",
   "execution_count": 130,
   "metadata": {},
   "outputs": [],
   "source": [
    "# number of components is fixed to 10\n",
    "ica = FastICA(n_components=10)\n",
    "X_ica = ica.fit_transform(X_train)\n",
    "X_val_ica = ica.transform(X_val)"
   ]
  },
  {
   "cell_type": "markdown",
   "metadata": {},
   "source": [
    "### * Estimating LightGBM params"
   ]
  },
  {
   "cell_type": "code",
   "execution_count": 131,
   "metadata": {},
   "outputs": [],
   "source": [
    "params_opt = bayesian_optimization_lightgbm(X_ica, y_train, cv=4, max_iter_opt=10)"
   ]
  },
  {
   "cell_type": "code",
   "execution_count": 132,
   "metadata": {},
   "outputs": [],
   "source": [
    "params_opt['bagging_freq'] = int(params_opt['bagging_freq'])\n",
    "params_opt['n_estimators'] = int(params_opt['n_estimators'])"
   ]
  },
  {
   "cell_type": "code",
   "execution_count": 137,
   "metadata": {},
   "outputs": [],
   "source": [
    "models = {\n",
    "    'rf': LGBMClassifier(boosting_type='rf', **params_opt),\n",
    "    'lr': LogisticRegression(random_state=42, multi_class='ovr', solver='liblinear', C=10000, tol=1e-2),\n",
    "    'svc': LinearSVC(multi_class='ovr', C=10000),\n",
    "}"
   ]
  },
  {
   "cell_type": "code",
   "execution_count": 138,
   "metadata": {},
   "outputs": [
    {
     "name": "stdout",
     "output_type": "stream",
     "text": [
      "n_components: 1\n",
      "n_components: 2\n",
      "n_components: 3\n",
      "n_components: 4\n",
      "n_components: 5\n",
      "n_components: 6\n",
      "n_components: 7\n",
      "n_components: 8\n",
      "n_components: 9\n",
      "n_components: 10\n",
      "n_components: 11\n",
      "n_components: 12\n",
      "n_components: 13\n",
      "n_components: 14\n",
      "n_components: 15\n",
      "n_components: 16\n",
      "n_components: 17\n",
      "n_components: 18\n",
      "n_components: 19\n",
      "n_components: 20\n",
      "n_components: 21\n",
      "n_components: 22\n",
      "n_components: 23\n",
      "n_components: 24\n"
     ]
    }
   ],
   "source": [
    "stats = {}\n",
    "\n",
    "for n_components in range(1, 25):\n",
    "    print('n_components: {}'.format(n_components))\n",
    "    stats[n_components] = {'cv': dict(), 'val': dict()}\n",
    "    \n",
    "    pca = FastICA(n_components=n_components)\n",
    "    X_ica = pca.fit_transform(X_train)\n",
    "    X_val_ica = pca.transform(X_val)\n",
    "    \n",
    "    for k, model in models.items():\n",
    "        stats[n_components]['cv'][k] = []\n",
    "        kfold = KFold(n_splits=6, shuffle=True, random_state=42)\n",
    "        \n",
    "        for train_ix, test_ix in kfold.split(X_ica, y_train):\n",
    "            _model = copy(model)\n",
    "            \n",
    "            X_crossval_train, X_crossval_test = X_ica[train_ix], X_ica[test_ix]\n",
    "            y_crossval_train, y_crossval_test = y_train[train_ix], y_train[test_ix]\n",
    "\n",
    "            # here must be sume sort of optimization\n",
    "            _model.fit(X_crossval_train, y_crossval_train.ravel())\n",
    "            stats[n_components]['cv'][k].append(accuracy_score(_model.predict(X_crossval_test), y_crossval_test, normalize=True))\n",
    "        #print('- cv for ' + k + ' is ready')\n",
    "    \n",
    "    for name, model in models.items():\n",
    "        _model = copy(model)\n",
    "        _model.fit(X_ica, y_train.squeeze())\n",
    "        stats[n_components]['val'][name] = accuracy_score(_model.predict(X_val_ica), y_val.squeeze())"
   ]
  },
  {
   "cell_type": "code",
   "execution_count": 139,
   "metadata": {},
   "outputs": [
    {
     "data": {
      "text/plain": [
       "<matplotlib.axes._subplots.AxesSubplot at 0x1a5806d2c18>"
      ]
     },
     "execution_count": 139,
     "metadata": {},
     "output_type": "execute_result"
    },
    {
     "data": {
      "image/png": "[encoded data removed]",
      "text/plain": [
       "<Figure size 432x288 with 1 Axes>"
      ]
     },
     "metadata": {},
     "output_type": "display_data"
    }
   ],
   "source": [
    "_classifiers = []\n",
    "\n",
    "for n_components, _stats in stats.items():\n",
    "    lr_cv = np.mean(_stats['cv']['lr'])\n",
    "    svm_cv = np.mean(_stats['cv']['svc'])\n",
    "    rf_cv = np.mean(_stats['cv']['rf'])\n",
    "    \n",
    "    _classifiers.append([lr_cv, svm_cv, rf_cv])\n",
    "    \n",
    "pd.DataFrame(_classifiers, columns = ['lr', 'svc', 'rf']).plot()"
   ]
  },
  {
   "cell_type": "code",
   "execution_count": 140,
   "metadata": {},
   "outputs": [
    {
     "data": {
      "text/plain": [
       "<matplotlib.axes._subplots.AxesSubplot at 0x1a5809a4dd8>"
      ]
     },
     "execution_count": 140,
     "metadata": {},
     "output_type": "execute_result"
    },
    {
     "data": {
      "image/png": "[encoded data removed]",
      "text/plain": [
       "<Figure size 432x288 with 1 Axes>"
      ]
     },
     "metadata": {},
     "output_type": "display_data"
    }
   ],
   "source": [
    "_classifiers = []\n",
    "\n",
    "for n_components, _stats in stats.items():\n",
    "    lr_cv = np.mean(_stats['val']['lr'])\n",
    "    svm_cv = np.mean(_stats['val']['svc'])\n",
    "    rf_cv = np.mean(_stats['val']['rf'])\n",
    "    \n",
    "    _classifiers.append([lr_cv, svm_cv, rf_cv])\n",
    "    \n",
    "pd.DataFrame(_classifiers, columns = ['lr', 'svc', 'rf']).plot()"
   ]
  },
  {
   "cell_type": "code",
   "execution_count": null,
   "metadata": {},
   "outputs": [],
   "source": []
  }
 ],
 "metadata": {
  "kernelspec": {
   "display_name": "Python 3",
   "language": "python",
   "name": "python3"
  },
  "language_info": {
   "codemirror_mode": {
    "name": "ipython",
    "version": 3
   },
   "file_extension": ".py",
   "mimetype": "text/x-python",
   "name": "python",
   "nbconvert_exporter": "python",
   "pygments_lexer": "ipython3",
   "version": "3.6.6"
  }
 },
 "nbformat": 4,
 "nbformat_minor": 2
}
