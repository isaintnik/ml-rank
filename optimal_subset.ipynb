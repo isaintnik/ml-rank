{
 "cells": [
  {
   "cell_type": "code",
   "execution_count": 1,
   "metadata": {},
   "outputs": [],
   "source": [
    "import numpy as np\n",
    "import pandas as pd\n",
    "\n",
    "from sklearn.preprocessing import OneHotEncoder\n",
    "from sklearn.base import TransformerMixin\n",
    "from sklearn.datasets import make_regression\n",
    "\n",
    "from sklearn.linear_model import LogisticRegression\n",
    "from sklearn.svm import LinearSVC\n",
    "from lightgbm import LGBMRegressor\n",
    "\n",
    "from scipy.stats import entropy\n",
    "from copy import deepcopy as copy\n",
    "\n",
    "%matplotlib inline"
   ]
  },
  {
   "cell_type": "markdown",
   "metadata": {},
   "source": [
    "# Класс дискретизации по принципу деления по медиане"
   ]
  },
  {
   "cell_type": "code",
   "execution_count": 2,
   "metadata": {},
   "outputs": [],
   "source": [
    "# https://www.theanalysisfactor.com/continuous-and-categorical-variables-the-trouble-with-median-splits/"
   ]
  },
  {
   "cell_type": "code",
   "execution_count": 82,
   "metadata": {},
   "outputs": [],
   "source": [
    "class MedianBinarizer(TransformerMixin):\n",
    "    def __init__(self, n_bins: int):\n",
    "        self.n_bins = n_bins\n",
    "        self.x_bins = None\n",
    "        self.encoder = None\n",
    "    \n",
    "    def _get_feature_bins(self, X):\n",
    "        #extra_bin = 0\n",
    "        #if X.shape[0] % self.n_bins != 0:\n",
    "        #    extra_bin = 1\n",
    "        #    print('number of bins does not fit to dataset'\n",
    "        #          ', extending number of bins to extra one')\n",
    "        #\n",
    "        #n_batch = X.shape[0] // self.n_bins\n",
    "        #X_sorted = np.sort(X)\n",
    "        #x_bins = [X[i*n_batch:(i+1)*n_batch] for i in range(self.n_bins + extra_bin)]\n",
    "        \n",
    "        iterations = np.log2(self.n_bins)\n",
    "        if iterations - int(iterations) != 0:\n",
    "            raise Exception('bins should be a power of 2')\n",
    "        \n",
    "        # получаем вариационный ряд\n",
    "        x_bins = [np.sort(X)]\n",
    "        for i in range(int(iterations)):\n",
    "            new_bins = list()\n",
    "            for j in x_bins:\n",
    "                # середина среза вариационного ряда\n",
    "                index = j.shape[0] // 2\n",
    "                new_bins += [j[:index], j[index:]]\n",
    "            x_bins = new_bins\n",
    "        return x_bins\n",
    "    \n",
    "    def _lookup(self, x):\n",
    "        for k, _bin in enumerate(self.x_bins):\n",
    "            if x <= _bin[-1]:\n",
    "                return k\n",
    "        return k\n",
    "    \n",
    "    def _real_to_category(self, X):\n",
    "        # X should not be a column vector\n",
    "        X_new = []\n",
    "        for x in X:\n",
    "            i = self._lookup(x)\n",
    "            \n",
    "            if i != -1:\n",
    "                X_new.append(i)\n",
    "            else:\n",
    "                raise Exception('something went wrong')\n",
    "\n",
    "        return np.array(X_new).reshape(-1, 1)\n",
    "    \n",
    "    def fit(self, X):\n",
    "        self.x_bins = self._get_feature_bins(X)\n",
    "        X_cat = self._real_to_category(X)\n",
    "        \n",
    "        self.encoder = OneHotEncoder(sparse=False)\n",
    "        self.encoder.fit(X_cat)\n",
    "    \n",
    "    def transform_categorical(self, X):\n",
    "        return self._real_to_category(X)\n",
    "    \n",
    "    def transform_onehot(self, X):\n",
    "        x_cat = self._real_to_category(X)\n",
    "        return self.encoder.transform(x_cat)\n",
    "    \n",
    "    def onehot_to_categorical(self, X):\n",
    "        return np.argwhere(X)[:, 1]\n",
    "    \n",
    "    def categorical_to_onehot(self, X):\n",
    "        return self.encoder.transform(X)"
   ]
  },
  {
   "cell_type": "code",
   "execution_count": 83,
   "metadata": {},
   "outputs": [],
   "source": [
    "def synchronize_counts(_from: dict, _to: dict):\n",
    "    subset = np.setdiff1d(list(_from.keys()), list(_to.keys()))\n",
    "    for i in subset:\n",
    "        _to[i] = 0"
   ]
  },
  {
   "cell_type": "code",
   "execution_count": 84,
   "metadata": {},
   "outputs": [],
   "source": [
    "def cross_entropy(p, q):\n",
    "    p = np.array(p)\n",
    "    q = np.array(q)\n",
    "    q[q == 0] = 0.0001\n",
    "    return -np.sum(p * np.log(q))"
   ]
  },
  {
   "cell_type": "markdown",
   "metadata": {},
   "source": [
    "# Дискретизированные переменные имеют равномерное распределение"
   ]
  },
  {
   "cell_type": "code",
   "execution_count": 85,
   "metadata": {},
   "outputs": [],
   "source": [
    "binarizer = MedianBinarizer(32)"
   ]
  },
  {
   "cell_type": "code",
   "execution_count": 86,
   "metadata": {},
   "outputs": [],
   "source": [
    "rnd_vals = np.random.lognormal(size=1000)"
   ]
  },
  {
   "cell_type": "code",
   "execution_count": 87,
   "metadata": {},
   "outputs": [],
   "source": [
    "binarizer.fit(rnd_vals)\n",
    "result = binarizer.transform_categorical(rnd_vals)"
   ]
  },
  {
   "cell_type": "code",
   "execution_count": 88,
   "metadata": {},
   "outputs": [
    {
     "data": {
      "text/plain": [
       "<matplotlib.axes._subplots.AxesSubplot at 0x24122322f28>"
      ]
     },
     "execution_count": 88,
     "metadata": {},
     "output_type": "execute_result"
    },
    {
     "data": {
      "image/png": "[encoded data removed]",
      "text/plain": [
       "<Figure size 432x288 with 1 Axes>"
      ]
     },
     "metadata": {},
     "output_type": "display_data"
    }
   ],
   "source": [
    "pd.Series(result.squeeze()).value_counts().sort_index().plot.bar()"
   ]
  },
  {
   "cell_type": "code",
   "execution_count": 89,
   "metadata": {},
   "outputs": [],
   "source": [
    "X, y, coefs = make_regression(n_samples=2000, n_features=15, n_informative=4, n_targets=3, coef=True, random_state=42)\n",
    "# introduce multicollinearity  (15, 16, 17 features)\n",
    "X = np.concatenate([X, y], axis=1)"
   ]
  },
  {
   "cell_type": "code",
   "execution_count": 90,
   "metadata": {},
   "outputs": [],
   "source": [
    "feature_space = []\n",
    "binarizers = []\n",
    "for i in range(X.shape[1]):\n",
    "    feature = X[:, i].squeeze()\n",
    "    binarizer = MedianBinarizer(32)\n",
    "    binarizer.fit(feature)\n",
    "    binarizers.append(binarizer)\n",
    "    feature_space.append(\n",
    "        {'category': binarizer.transform_categorical(feature),\n",
    "        'onehot': binarizer.transform_onehot(feature)}\n",
    "    )"
   ]
  },
  {
   "cell_type": "code",
   "execution_count": 91,
   "metadata": {},
   "outputs": [],
   "source": [
    "test_classifiers = [\n",
    "    LogisticRegression(random_state=42, multi_class='ovr'),\n",
    "    LinearSVC(multi_class='ovr'),\n",
    "    LGBMRegressor(boosting_type='rf')\n",
    "]"
   ]
  },
  {
   "cell_type": "code",
   "execution_count": 102,
   "metadata": {},
   "outputs": [
    {
     "name": "stdout",
     "output_type": "stream",
     "text": [
      "[0, 13, 17, 9, 12, 11, 16, 8, 7, 10, 15, 14, 6, 4, 1, 2, 5, 3]\n",
      "[1, 6, 8, 15, 11, 17, 14, 5, 9, 7, 4, 12, 13, 16, 3, 10, 2, 0]\n",
      "[2, 10, 5, 3, 11, 15, 8, 12, 1, 13, 4, 16, 0, 17, 14, 9, 6, 7]\n",
      "[3, 5, 11, 14, 13, 2, 9, 12, 17, 7, 10, 6, 15, 1, 0, 16, 8, 4]\n",
      "[4, 16, 6, 10, 1, 12, 11, 9, 2, 17, 3, 8, 0, 14, 5, 15, 13, 7]\n",
      "[5, 8, 7, 9, 15, 13, 12, 2, 17, 16, 6, 11, 4, 3, 1, 14, 0, 10]\n",
      "[6, 11, 0, 10, 14, 4, 15, 13, 1, 17, 3, 8, 2, 7, 9, 12, 16, 5]\n",
      "[7, 12, 10, 5, 1, 15, 14, 0, 2, 6, 4, 3, 9, 17, 8, 11, 13, 16]\n",
      "[8, 16, 11, 5, 2, 1, 6, 12, 10, 13, 9, 0, 14, 17, 15, 3, 4, 7]\n",
      "[9, 8, 15, 14, 17, 1, 6, 13, 10, 12, 3, 5, 16, 4, 7, 2, 0, 11]\n",
      "[10, 15, 17, 13, 3, 12, 1, 16, 4, 0, 7, 9, 2, 8, 14, 11, 5, 6]\n",
      "[11, 0, 10, 13, 3, 6, 8, 14, 7, 15, 5, 16, 1, 9, 17, 12, 4, 2]\n",
      "[12, 8, 9, 14, 13, 0, 1, 7, 2, 10, 17, 11, 5, 15, 3, 6, 16, 4]\n",
      "[13, 6, 0, 4, 2, 15, 8, 14, 16, 17, 3, 5, 10, 7, 9, 12, 11, 1]\n",
      "[14, 11, 16, 3, 1, 7, 5, 0, 8, 6, 4, 13, 9, 15, 10, 2, 12, 17]\n",
      "[15, 10, 6, 8, 12, 3, 0, 14, 7, 11, 17, 16, 9, 1, 13, 4, 2, 5]\n",
      "[16, 10, 5, 0, 4, 14, 11, 7, 17, 6, 2, 3, 9, 8, 1, 12, 13, 15]\n",
      "[17, 10, 7, 13, 16, 8, 0, 12, 4, 11, 2, 14, 5, 15, 3, 1, 6, 9]\n",
      "real informative variables\n",
      "[0, 1, 2, 3, 10, 11, 15, 16, 17]\n"
     ]
    }
   ],
   "source": [
    "np.random.seed(42)\n",
    "\n",
    "for initial_feature in range(len(feature_space)):\n",
    "    #initial_feature = 0# np.random.randint(0, len(feature_space))\n",
    "\n",
    "    dataset_size = X.shape[0]\n",
    "    # free_features is a list of observation indices\n",
    "    free_features = [i for i in range(len(feature_space)) if i != initial_feature]\n",
    "    # subset is a list of observations\n",
    "    subset = [feature_space[initial_feature]['onehot']]\n",
    "    # indices of the features in the subset\n",
    "    subset_indices = [initial_feature]\n",
    "\n",
    "    while len(subset) != len(feature_space):\n",
    "        max_entropy = -1\n",
    "        feature_index = -1\n",
    "        new_feature = None\n",
    "\n",
    "        stats = []\n",
    "\n",
    "\n",
    "        for ix_feature, feature in enumerate(free_features):\n",
    "            if len(subset) > 1:\n",
    "                input_features = np.concatenate(subset, axis=1)\n",
    "            else:\n",
    "                input_features = subset[0]\n",
    "\n",
    "            clr = copy(test_classifiers[0])\n",
    "            #train model on the given subset and new feature\n",
    "            clr.fit(input_features, feature_space[feature]['category'].squeeze())\n",
    "            #predict that feature with the given subset\n",
    "            predicted = clr.predict(input_features)\n",
    "\n",
    "            predicted_onehot = binarizers[feature].categorical_to_onehot(predicted.reshape(-1, 1))\n",
    "            #pred_difference = (predicted_onehot != feature_space[feature]['onehot']).astype(np.int32) # 0110\n",
    "            pred_difference = ((predicted_onehot == 1) & (feature_space[feature]['onehot'] == 0)).astype(np.int32) # 0010\n",
    "\n",
    "            pred_category, pred_counts = np.unique(predicted, return_counts=True)\n",
    "            real_category, real_counts = np.unique(feature_space[feature]['category'], return_counts=True)\n",
    "\n",
    "            pred_proba = pred_counts / dataset_size\n",
    "            real_proba = real_counts / dataset_size\n",
    "\n",
    "            real_stats = dict(zip(real_category, real_proba))\n",
    "            pred_stats =  dict(zip(pred_category, pred_proba))\n",
    "\n",
    "            synchronize_counts(real_stats, pred_stats)\n",
    "\n",
    "            ce_r_r = cross_entropy(list(real_stats.values()), list(real_stats.values()))\n",
    "            ce_p_p = cross_entropy(list(pred_stats.values()), list(pred_stats.values()))\n",
    "            ce_r_p = cross_entropy(list(real_stats.values()), list(pred_stats.values()))\n",
    "\n",
    "            if max_entropy < ce_r_p:\n",
    "                max_entropy = ce_r_p\n",
    "                feature_index = ix_feature\n",
    "                new_feature = pred_difference\n",
    "\n",
    "            stats.append({'rr': ce_r_r, 'pp': ce_p_p, 'rp': ce_r_p})\n",
    "        #print('#'*100)\n",
    "        #print('subset', subset)\n",
    "        #print(pd.DataFrame(stats, index=free_features))\n",
    "        #print('#'*100)\n",
    "\n",
    "        subset.append(new_feature)\n",
    "        subset_indices.append(free_features[feature_index])\n",
    "        del free_features[feature_index]\n",
    "\n",
    "    #print('generated ordered list of variables')\n",
    "    print(subset_indices)\n",
    "print('real informative variables')\n",
    "print(np.unique(np.argwhere(coefs > 0)).tolist() + [15, 16, 17])"
   ]
  },
  {
   "cell_type": "code",
   "execution_count": null,
   "metadata": {},
   "outputs": [],
   "source": []
  }
 ],
 "metadata": {
  "kernelspec": {
   "display_name": "Python 3",
   "language": "python",
   "name": "python3"
  },
  "language_info": {
   "codemirror_mode": {
    "name": "ipython",
    "version": 3
   },
   "file_extension": ".py",
   "mimetype": "text/x-python",
   "name": "python",
   "nbconvert_exporter": "python",
   "pygments_lexer": "ipython3",
   "version": "3.6.6"
  }
 },
 "nbformat": 4,
 "nbformat_minor": 2
}
