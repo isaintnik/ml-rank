{
 "cells": [
  {
   "cell_type": "code",
   "execution_count": 38,
   "metadata": {},
   "outputs": [],
   "source": [
    "import warnings\n",
    "warnings.filterwarnings('ignore')"
   ]
  },
  {
   "cell_type": "code",
   "execution_count": 39,
   "metadata": {},
   "outputs": [],
   "source": [
    "import pandas as pd\n",
    "import numpy as np\n",
    "import struct\n",
    "\n",
    "from sklearn.preprocessing import StandardScaler\n",
    "from sklearn.decomposition import PCA\n",
    "from sklearn.linear_model import LogisticRegression\n",
    "from sklearn.svm import LinearSVC\n",
    "from lightgbm import LGBMClassifier \n",
    "\n",
    "from sklearn.metrics import accuracy_score\n",
    "from sklearn.utils import shuffle\n",
    "from sklearn.model_selection import KFold, train_test_split\n",
    "\n",
    "from hyperopt import fmin, tpe, hp\n",
    "from sklearn.model_selection import cross_val_score\n",
    "from bayes_opt import BayesianOptimization\n",
    "\n",
    "import matplotlib.pyplot as plt\n",
    "\n",
    "from copy import deepcopy as copy\n",
    "\n",
    "%matplotlib inline"
   ]
  },
  {
   "cell_type": "code",
   "execution_count": 40,
   "metadata": {},
   "outputs": [],
   "source": [
    "import sys\n",
    "sys.path.append('../../../')"
   ]
  },
  {
   "cell_type": "code",
   "execution_count": 41,
   "metadata": {},
   "outputs": [],
   "source": [
    "from importlib import reload\n",
    "\n",
    "import mlrank.hyperparams_opt as hyperparams_opt\n",
    "\n",
    "reload(hyperparams_opt)\n",
    "\n",
    "bayesian_optimization_lightgbm = hyperparams_opt.bayesian_optimization_lightgbm"
   ]
  },
  {
   "cell_type": "markdown",
   "metadata": {},
   "source": [
    "# MNIST"
   ]
  },
  {
   "cell_type": "code",
   "execution_count": 42,
   "metadata": {},
   "outputs": [],
   "source": [
    "def read_idx(filename):\n",
    "    with open(filename, 'rb') as f:\n",
    "        zero, data_type, dims = struct.unpack('>HBB', f.read(4))\n",
    "        shape = tuple(struct.unpack('>I', f.read(4))[0] for d in range(dims))\n",
    "        return np.fromstring(f.read(), dtype=np.uint8).reshape(shape)"
   ]
  },
  {
   "cell_type": "code",
   "execution_count": 43,
   "metadata": {},
   "outputs": [],
   "source": [
    "X = read_idx('../datasets/mnist/train-images.idx3-ubyte')\n",
    "y = read_idx('../datasets/mnist/train-labels.idx1-ubyte')"
   ]
  },
  {
   "cell_type": "code",
   "execution_count": 44,
   "metadata": {},
   "outputs": [],
   "source": [
    "X = X / np.max(X)"
   ]
  },
  {
   "cell_type": "code",
   "execution_count": 45,
   "metadata": {},
   "outputs": [],
   "source": [
    "X = X.reshape(X.shape[0], -1)"
   ]
  },
  {
   "cell_type": "code",
   "execution_count": 24,
   "metadata": {},
   "outputs": [],
   "source": [
    "X_train, X_val, y_train, y_val = train_test_split(X, y, test_size=0.1)"
   ]
  },
  {
   "cell_type": "code",
   "execution_count": 25,
   "metadata": {},
   "outputs": [
    {
     "name": "stdout",
     "output_type": "stream",
     "text": [
      "dataset size: (60000, 784)\n"
     ]
    }
   ],
   "source": [
    "print('dataset size: {}'.format(X.shape))"
   ]
  },
  {
   "cell_type": "markdown",
   "metadata": {},
   "source": [
    "### Training model with PCA-processed data"
   ]
  },
  {
   "cell_type": "code",
   "execution_count": 30,
   "metadata": {},
   "outputs": [],
   "source": [
    "# number of components is fixed to 10\n",
    "pca = PCA(n_components=10)\n",
    "X_pca = pca.fit_transform(X_train)\n",
    "X_val_pca = pca.transform(X_val)"
   ]
  },
  {
   "cell_type": "code",
   "execution_count": 34,
   "metadata": {},
   "outputs": [],
   "source": [
    "models = {\n",
    "    'lr': LogisticRegression(random_state=42, multi_class='ovr', solver='liblinear', C=10000, tol=1e-2),\n",
    "    'svc': LinearSVC(multi_class='ovr', C=10000, tol=1e-2),\n",
    "}"
   ]
  },
  {
   "cell_type": "markdown",
   "metadata": {},
   "source": [
    "### * Evaluate with CV"
   ]
  },
  {
   "cell_type": "code",
   "execution_count": null,
   "metadata": {},
   "outputs": [],
   "source": [
    "stats = dict()\n",
    "\n",
    "for n_components in range(1, 25):\n",
    "    accur_score = list()\n",
    "\n",
    "    for i in range(n_holdout_interations):\n",
    "        X_train, X_val, y_train, y_val = train_test_split(X[:, indices_target_min_xor], y, test_size=0.5)#, random_state=1)\n",
    "\n",
    "        record = dict()\n",
    "        for name, model in models.items():\n",
    "            model.fit(X_train, y_train.squeeze())\n",
    "            record[name] = accuracy_score(model.predict(X_val), y_val.squeeze())\n",
    "        accur_score.append(record)\n",
    "\n",
    "    print(np.mean([i['svc'] for i in accur_score]))\n",
    "    print(np.mean([i['lr'] for i in accur_score]))"
   ]
  },
  {
   "cell_type": "code",
   "execution_count": 35,
   "metadata": {},
   "outputs": [
    {
     "name": "stdout",
     "output_type": "stream",
     "text": [
      "n_components: 1\n",
      "n_components: 2\n",
      "n_components: 3\n",
      "n_components: 4\n",
      "n_components: 5\n",
      "n_components: 6\n",
      "n_components: 7\n",
      "n_components: 8\n",
      "n_components: 9\n",
      "n_components: 10\n",
      "n_components: 11\n",
      "n_components: 12\n",
      "n_components: 13\n",
      "n_components: 14\n",
      "n_components: 15\n",
      "n_components: 16\n",
      "n_components: 17\n",
      "n_components: 18\n",
      "n_components: 19\n",
      "n_components: 20\n",
      "n_components: 21\n",
      "n_components: 22\n",
      "n_components: 23\n",
      "n_components: 24\n"
     ]
    }
   ],
   "source": [
    "stats = {}\n",
    "\n",
    "for n_components in range(1, 25):\n",
    "    print('n_components: {}'.format(n_components))\n",
    "    stats[n_components] = {'cv': dict(), 'val': dict()}\n",
    "    \n",
    "    pca = PCA(n_components=n_components)\n",
    "    X_pca = pca.fit_transform(X_train)\n",
    "    X_val_pca = pca.transform(X_val)\n",
    "    \n",
    "    for k, model in models.items():\n",
    "        stats[n_components]['cv'][k] = []\n",
    "        kfold = KFold(n_splits=4, shuffle=True, random_state=42)\n",
    "        \n",
    "        for train_ix, test_ix in kfold.split(X_pca, y_train):\n",
    "            _model = copy(model)\n",
    "            \n",
    "            X_crossval_train, X_crossval_test = X_pca[train_ix], X_pca[test_ix]\n",
    "            y_crossval_train, y_crossval_test = y_train[train_ix], y_train[test_ix]\n",
    "\n",
    "            # here must be sume sort of optimization\n",
    "            _model.fit(X_crossval_train, y_crossval_train.ravel())\n",
    "            stats[n_components]['cv'][k].append(accuracy_score(_model.predict(X_crossval_test), y_crossval_test, normalize=True))\n",
    "        #print('- cv for ' + k + ' is ready')\n",
    "    \n",
    "    for name, model in models.items():\n",
    "        _model = copy(model)\n",
    "        _model.fit(X_pca, y_train.squeeze())\n",
    "        stats[n_components]['val'][name] = accuracy_score(_model.predict(X_val_pca), y_val.squeeze())"
   ]
  },
  {
   "cell_type": "code",
   "execution_count": 36,
   "metadata": {},
   "outputs": [
    {
     "data": {
      "text/plain": [
       "<matplotlib.axes._subplots.AxesSubplot at 0x2095589b2b0>"
      ]
     },
     "execution_count": 36,
     "metadata": {},
     "output_type": "execute_result"
    },
    {
     "data": {
      "image/png": "[encoded data removed]",
      "text/plain": [
       "<Figure size 432x288 with 1 Axes>"
      ]
     },
     "metadata": {},
     "output_type": "display_data"
    }
   ],
   "source": [
    "_classifiers = []\n",
    "\n",
    "for n_components, _stats in stats.items():\n",
    "    lr_cv = np.mean(_stats['cv']['lr'])\n",
    "    svm_cv = np.mean(_stats['cv']['svc'])\n",
    "    rf_cv = np.mean(_stats['cv']['rf'])\n",
    "    \n",
    "    _classifiers.append([lr_cv, svm_cv, rf_cv])\n",
    "    \n",
    "pd.DataFrame(_classifiers, columns = ['lr', 'svc', 'rf']).plot()"
   ]
  },
  {
   "cell_type": "code",
   "execution_count": 37,
   "metadata": {},
   "outputs": [
    {
     "data": {
      "text/plain": [
       "<matplotlib.axes._subplots.AxesSubplot at 0x2090007cb00>"
      ]
     },
     "execution_count": 37,
     "metadata": {},
     "output_type": "execute_result"
    },
    {
     "data": {
      "image/png": "[encoded data removed]",
      "text/plain": [
       "<Figure size 432x288 with 1 Axes>"
      ]
     },
     "metadata": {},
     "output_type": "display_data"
    }
   ],
   "source": [
    "_classifiers = []\n",
    "\n",
    "for n_components, _stats in stats.items():\n",
    "    lr_cv = np.mean(_stats['val']['lr'])\n",
    "    svm_cv = np.mean(_stats['val']['svc'])\n",
    "    rf_cv = np.mean(_stats['val']['rf'])\n",
    "    \n",
    "    _classifiers.append([lr_cv, svm_cv, rf_cv])\n",
    "    \n",
    "pd.DataFrame(_classifiers, columns = ['lr', 'svc', 'rf']).plot()"
   ]
  },
  {
   "cell_type": "markdown",
   "metadata": {},
   "source": [
    "# Credit Card Fraud"
   ]
  },
  {
   "cell_type": "code",
   "execution_count": 205,
   "metadata": {},
   "outputs": [],
   "source": [
    "df = pd.read_csv('../datasets/creditcard/creditcard.csv')"
   ]
  },
  {
   "cell_type": "code",
   "execution_count": 206,
   "metadata": {},
   "outputs": [],
   "source": [
    "X = df[np.setdiff1d(df.columns, [\"Class\", \"Time\"])].values\n",
    "y = df.Class.values"
   ]
  },
  {
   "cell_type": "code",
   "execution_count": 207,
   "metadata": {},
   "outputs": [],
   "source": [
    "X = StandardScaler().fit_transform(X)"
   ]
  },
  {
   "cell_type": "code",
   "execution_count": 208,
   "metadata": {},
   "outputs": [],
   "source": [
    "X_train, X_val, y_train, y_val = train_test_split(X, y, test_size=0.1)"
   ]
  },
  {
   "cell_type": "code",
   "execution_count": 209,
   "metadata": {},
   "outputs": [
    {
     "name": "stdout",
     "output_type": "stream",
     "text": [
      "dataset size: (284807, 29)\n"
     ]
    }
   ],
   "source": [
    "print('dataset size: {}'.format(X.shape))"
   ]
  },
  {
   "cell_type": "markdown",
   "metadata": {},
   "source": [
    "### Training model with PCA-processed data"
   ]
  },
  {
   "cell_type": "code",
   "execution_count": 210,
   "metadata": {},
   "outputs": [],
   "source": [
    "# number of components is fixed to 10\n",
    "pca = PCA(n_components=10)\n",
    "X_pca = pca.fit_transform(X_train)\n",
    "X_val_pca = pca.transform(X_val)"
   ]
  },
  {
   "cell_type": "markdown",
   "metadata": {},
   "source": [
    "### * Estimating LightGBM params"
   ]
  },
  {
   "cell_type": "code",
   "execution_count": 211,
   "metadata": {},
   "outputs": [],
   "source": [
    "params_opt = bayesian_optimization_lightgbm(X_pca, y_train, cv=4, max_iter_opt=10)"
   ]
  },
  {
   "cell_type": "code",
   "execution_count": 212,
   "metadata": {},
   "outputs": [],
   "source": [
    "params_opt['bagging_freq'] = int(params_opt['bagging_freq'])\n",
    "params_opt['n_estimators'] = int(params_opt['n_estimators'])"
   ]
  },
  {
   "cell_type": "code",
   "execution_count": 213,
   "metadata": {},
   "outputs": [],
   "source": [
    "models = {\n",
    "    'rf': LGBMClassifier(boosting_type='rf', **params_opt),\n",
    "    'lr': LogisticRegression(random_state=42, multi_class='ovr', solver='liblinear', C=10000, tol=1e-2),\n",
    "    'svc': LinearSVC(multi_class='ovr', C=10000, tol=1e-2),\n",
    "}"
   ]
  },
  {
   "cell_type": "code",
   "execution_count": 214,
   "metadata": {},
   "outputs": [
    {
     "name": "stdout",
     "output_type": "stream",
     "text": [
      "n_components: 1\n",
      "n_components: 2\n",
      "n_components: 3\n",
      "n_components: 4\n",
      "n_components: 5\n",
      "n_components: 6\n",
      "n_components: 7\n",
      "n_components: 8\n",
      "n_components: 9\n",
      "n_components: 10\n"
     ]
    }
   ],
   "source": [
    "stats = {}\n",
    "\n",
    "for n_components in range(1, 11):\n",
    "    print('n_components: {}'.format(n_components))\n",
    "    stats[n_components] = {'cv': dict(), 'val': dict()}\n",
    "    \n",
    "    pca = PCA(n_components=n_components)\n",
    "    X_pca = pca.fit_transform(X_train)\n",
    "    X_val_pca = pca.transform(X_val)\n",
    "    \n",
    "    for k, model in models.items():\n",
    "        stats[n_components]['cv'][k] = []\n",
    "        kfold = KFold(n_splits=4, shuffle=True, random_state=42)\n",
    "        \n",
    "        for train_ix, test_ix in kfold.split(X_pca, y_train):\n",
    "            _model = copy(model)\n",
    "            \n",
    "            X_crossval_train, X_crossval_test = X_pca[train_ix], X_pca[test_ix]\n",
    "            y_crossval_train, y_crossval_test = y_train[train_ix], y_train[test_ix]\n",
    "\n",
    "            # here must be sume sort of optimization\n",
    "            _model.fit(X_crossval_train, y_crossval_train.ravel())\n",
    "            stats[n_components]['cv'][k].append(accuracy_score(_model.predict(X_crossval_test), y_crossval_test, normalize=True))\n",
    "        #print('- cv for ' + k + ' is ready')\n",
    "    \n",
    "    for name, model in models.items():\n",
    "        _model = copy(model)\n",
    "        _model.fit(X_pca, y_train.squeeze())\n",
    "        stats[n_components]['val'][name] = accuracy_score(_model.predict(X_val_pca), y_val.squeeze())"
   ]
  },
  {
   "cell_type": "code",
   "execution_count": 215,
   "metadata": {},
   "outputs": [
    {
     "data": {
      "text/plain": [
       "<matplotlib.axes._subplots.AxesSubplot at 0x26d011c0748>"
      ]
     },
     "execution_count": 215,
     "metadata": {},
     "output_type": "execute_result"
    },
    {
     "data": {
      "image/png": "[encoded data removed]",
      "text/plain": [
       "<Figure size 432x288 with 1 Axes>"
      ]
     },
     "metadata": {},
     "output_type": "display_data"
    }
   ],
   "source": [
    "_classifiers = []\n",
    "\n",
    "for n_components, _stats in stats.items():\n",
    "    lr_cv = np.mean(_stats['cv']['lr'])\n",
    "    svm_cv = np.mean(_stats['cv']['svc'])\n",
    "    rf_cv = np.mean(_stats['cv']['rf'])\n",
    "    \n",
    "    _classifiers.append([lr_cv, svm_cv, rf_cv])\n",
    "    \n",
    "pd.DataFrame(_classifiers, columns = ['lr', 'svc', 'rf']).plot()"
   ]
  },
  {
   "cell_type": "code",
   "execution_count": 216,
   "metadata": {},
   "outputs": [
    {
     "data": {
      "text/plain": [
       "<matplotlib.axes._subplots.AxesSubplot at 0x26d0121e390>"
      ]
     },
     "execution_count": 216,
     "metadata": {},
     "output_type": "execute_result"
    },
    {
     "data": {
      "image/png": "[encoded data removed]",
      "text/plain": [
       "<Figure size 432x288 with 1 Axes>"
      ]
     },
     "metadata": {},
     "output_type": "display_data"
    }
   ],
   "source": [
    "_classifiers = []\n",
    "\n",
    "for n_components, _stats in stats.items():\n",
    "    lr_cv = np.mean(_stats['val']['lr'])\n",
    "    svm_cv = np.mean(_stats['val']['svc'])\n",
    "    rf_cv = np.mean(_stats['val']['rf'])\n",
    "    \n",
    "    _classifiers.append([lr_cv, svm_cv, rf_cv])\n",
    "    \n",
    "pd.DataFrame(_classifiers, columns = ['lr', 'svc', 'rf']).plot()"
   ]
  },
  {
   "cell_type": "markdown",
   "metadata": {},
   "source": [
    "# Breast Cancer"
   ]
  },
  {
   "cell_type": "code",
   "execution_count": 165,
   "metadata": {},
   "outputs": [],
   "source": [
    "df = pd.read_csv('../datasets/cancer/breast_cancer.csv')\n",
    "y = df.diagnosis.replace('M', 0).replace('B', 1).values\n",
    "X = np.asarray(df.drop(['diagnosis', 'id', 'Unnamed: 32'], axis=1).as_matrix())"
   ]
  },
  {
   "cell_type": "code",
   "execution_count": 166,
   "metadata": {},
   "outputs": [],
   "source": [
    "X = StandardScaler().fit_transform(X)"
   ]
  },
  {
   "cell_type": "code",
   "execution_count": 167,
   "metadata": {},
   "outputs": [],
   "source": [
    "X_train, X_val, y_train, y_val = train_test_split(X, y, test_size=0.1)"
   ]
  },
  {
   "cell_type": "code",
   "execution_count": 168,
   "metadata": {},
   "outputs": [
    {
     "name": "stdout",
     "output_type": "stream",
     "text": [
      "dataset size: (569, 30)\n"
     ]
    }
   ],
   "source": [
    "print('dataset size: {}'.format(X.shape))"
   ]
  },
  {
   "cell_type": "markdown",
   "metadata": {},
   "source": [
    "### Training model with PCA-processed data"
   ]
  },
  {
   "cell_type": "code",
   "execution_count": 169,
   "metadata": {},
   "outputs": [],
   "source": [
    "# number of components is fixed to 10\n",
    "pca = PCA(n_components=10)\n",
    "X_pca = pca.fit_transform(X_train)\n",
    "X_val_pca = pca.transform(X_val)"
   ]
  },
  {
   "cell_type": "markdown",
   "metadata": {},
   "source": [
    "### * Estimating LightGBM params"
   ]
  },
  {
   "cell_type": "code",
   "execution_count": 170,
   "metadata": {},
   "outputs": [],
   "source": [
    "params_opt = bayesian_optimization_lightgbm(X_pca, y_train, cv=4, max_iter_opt=10)"
   ]
  },
  {
   "cell_type": "code",
   "execution_count": 171,
   "metadata": {},
   "outputs": [],
   "source": [
    "params_opt['bagging_freq'] = int(params_opt['bagging_freq'])\n",
    "params_opt['n_estimators'] = int(params_opt['n_estimators'])"
   ]
  },
  {
   "cell_type": "code",
   "execution_count": 172,
   "metadata": {},
   "outputs": [],
   "source": [
    "models = {\n",
    "    'rf': LGBMClassifier(boosting_type='rf', **params_opt),\n",
    "    'lr': LogisticRegression(random_state=42, multi_class='ovr', solver='liblinear', C=10000, tol=1e-2),\n",
    "    'svc': LinearSVC(multi_class='ovr', C=10000),\n",
    "}"
   ]
  },
  {
   "cell_type": "code",
   "execution_count": 176,
   "metadata": {},
   "outputs": [
    {
     "name": "stdout",
     "output_type": "stream",
     "text": [
      "n_components: 1\n",
      "n_components: 2\n",
      "n_components: 3\n",
      "n_components: 4\n",
      "n_components: 5\n",
      "n_components: 6\n",
      "n_components: 7\n",
      "n_components: 8\n",
      "n_components: 9\n",
      "n_components: 10\n",
      "n_components: 11\n",
      "n_components: 12\n",
      "n_components: 13\n",
      "n_components: 14\n",
      "n_components: 15\n",
      "n_components: 16\n",
      "n_components: 17\n",
      "n_components: 18\n",
      "n_components: 19\n"
     ]
    }
   ],
   "source": [
    "stats = {}\n",
    "\n",
    "for n_components in range(1, 20):\n",
    "    print('n_components: {}'.format(n_components))\n",
    "    stats[n_components] = {'cv': dict(), 'val': dict()}\n",
    "    \n",
    "    pca = PCA(n_components=n_components)\n",
    "    X_pca = pca.fit_transform(X_train)\n",
    "    X_val_pca = pca.transform(X_val)\n",
    "    \n",
    "    for k, model in models.items():\n",
    "        stats[n_components]['cv'][k] = []\n",
    "        kfold = KFold(n_splits=6, shuffle=True, random_state=42)\n",
    "        \n",
    "        for train_ix, test_ix in kfold.split(X_pca, y_train):\n",
    "            _model = copy(model)\n",
    "            \n",
    "            X_crossval_train, X_crossval_test = X_pca[train_ix], X_pca[test_ix]\n",
    "            y_crossval_train, y_crossval_test = y_train[train_ix], y_train[test_ix]\n",
    "\n",
    "            # here must be sume sort of optimization\n",
    "            _model.fit(X_crossval_train, y_crossval_train.ravel())\n",
    "            stats[n_components]['cv'][k].append(accuracy_score(_model.predict(X_crossval_test), y_crossval_test, normalize=True))\n",
    "        #print('- cv for ' + k + ' is ready')\n",
    "    \n",
    "    for name, model in models.items():\n",
    "        _model = copy(model)\n",
    "        _model.fit(X_pca, y_train.squeeze())\n",
    "        stats[n_components]['val'][name] = accuracy_score(_model.predict(X_val_pca), y_val.squeeze())"
   ]
  },
  {
   "cell_type": "code",
   "execution_count": 177,
   "metadata": {},
   "outputs": [
    {
     "data": {
      "text/plain": [
       "<matplotlib.axes._subplots.AxesSubplot at 0x26d00cf0dd8>"
      ]
     },
     "execution_count": 177,
     "metadata": {},
     "output_type": "execute_result"
    },
    {
     "data": {
      "image/png": "[encoded data removed]",
      "text/plain": [
       "<Figure size 432x288 with 1 Axes>"
      ]
     },
     "metadata": {},
     "output_type": "display_data"
    }
   ],
   "source": [
    "_classifiers = []\n",
    "\n",
    "for n_components, _stats in stats.items():\n",
    "    lr_cv = np.mean(_stats['cv']['lr'])\n",
    "    svm_cv = np.mean(_stats['cv']['svc'])\n",
    "    rf_cv = np.mean(_stats['cv']['rf'])\n",
    "    \n",
    "    _classifiers.append([lr_cv, svm_cv, rf_cv])\n",
    "    \n",
    "pd.DataFrame(_classifiers, columns = ['lr', 'svc', 'rf']).plot()"
   ]
  },
  {
   "cell_type": "code",
   "execution_count": 179,
   "metadata": {},
   "outputs": [
    {
     "data": {
      "text/plain": [
       "<matplotlib.axes._subplots.AxesSubplot at 0x26d010b8860>"
      ]
     },
     "execution_count": 179,
     "metadata": {},
     "output_type": "execute_result"
    },
    {
     "data": {
      "image/png": "[encoded data removed]",
      "text/plain": [
       "<Figure size 432x288 with 1 Axes>"
      ]
     },
     "metadata": {},
     "output_type": "display_data"
    }
   ],
   "source": [
    "_classifiers = []\n",
    "\n",
    "for n_components, _stats in stats.items():\n",
    "    lr_cv = np.mean(_stats['val']['lr'])\n",
    "    svm_cv = np.mean(_stats['val']['svc'])\n",
    "    rf_cv = np.mean(_stats['val']['rf'])\n",
    "    \n",
    "    _classifiers.append([lr_cv, svm_cv, rf_cv])\n",
    "    \n",
    "pd.DataFrame(_classifiers, columns = ['lr', 'svc', 'rf']).plot()"
   ]
  },
  {
   "cell_type": "code",
   "execution_count": null,
   "metadata": {},
   "outputs": [],
   "source": []
  }
 ],
 "metadata": {
  "kernelspec": {
   "display_name": "Python 3",
   "language": "python",
   "name": "python3"
  },
  "language_info": {
   "codemirror_mode": {
    "name": "ipython",
    "version": 3
   },
   "file_extension": ".py",
   "mimetype": "text/x-python",
   "name": "python",
   "nbconvert_exporter": "python",
   "pygments_lexer": "ipython3",
   "version": "3.6.6"
  }
 },
 "nbformat": 4,
 "nbformat_minor": 2
}
